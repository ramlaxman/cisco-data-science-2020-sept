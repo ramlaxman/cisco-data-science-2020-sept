{
 "cells": [
  {
   "cell_type": "markdown",
   "metadata": {},
   "source": [
    "# Today's agenda\n",
    "\n",
    "1. A bit more about indexes\n",
    "2. `value_counts`\n",
    "3. Strings in Pandas and the `str` proxy object\n",
    "4. Plotting in Pandas\n",
    "5. DataFrames — creating them, editing them, selecting from them\n",
    "6. Reading from and writing to files (especially CSV)\n",
    "7. Plotting data frames\n",
    "8. Special kinds of plots — scatter plots — on data frames"
   ]
  },
  {
   "cell_type": "code",
   "execution_count": 1,
   "metadata": {},
   "outputs": [
    {
     "name": "stdout",
     "output_type": "stream",
     "text": [
      "Populating the interactive namespace from numpy and matplotlib\n"
     ]
    }
   ],
   "source": [
    "%pylab inline\n",
    "import pandas as pd\n",
    "from pandas import Series, DataFrame"
   ]
  },
  {
   "cell_type": "code",
   "execution_count": 2,
   "metadata": {},
   "outputs": [
    {
     "data": {
      "text/plain": [
       "0    10\n",
       "1    20\n",
       "2    30\n",
       "3    40\n",
       "4    50\n",
       "dtype: int64"
      ]
     },
     "execution_count": 2,
     "metadata": {},
     "output_type": "execute_result"
    }
   ],
   "source": [
    "s = Series([10, 20, 30, 40, 50])\n",
    "s"
   ]
  },
  {
   "cell_type": "code",
   "execution_count": 3,
   "metadata": {},
   "outputs": [
    {
     "data": {
      "text/plain": [
       "RangeIndex(start=0, stop=5, step=1)"
      ]
     },
     "execution_count": 3,
     "metadata": {},
     "output_type": "execute_result"
    }
   ],
   "source": [
    "s.index"
   ]
  },
  {
   "cell_type": "code",
   "execution_count": 4,
   "metadata": {},
   "outputs": [
    {
     "data": {
      "text/plain": [
       "100    10\n",
       "200    20\n",
       "300    30\n",
       "400    40\n",
       "500    50\n",
       "dtype: int64"
      ]
     },
     "execution_count": 4,
     "metadata": {},
     "output_type": "execute_result"
    }
   ],
   "source": [
    "s.index = [100, 200, 300, 400, 500]\n",
    "s"
   ]
  },
  {
   "cell_type": "code",
   "execution_count": 5,
   "metadata": {},
   "outputs": [
    {
     "data": {
      "text/plain": [
       "Int64Index([100, 200, 300, 400, 500], dtype='int64')"
      ]
     },
     "execution_count": 5,
     "metadata": {},
     "output_type": "execute_result"
    }
   ],
   "source": [
    "s.index"
   ]
  },
  {
   "cell_type": "code",
   "execution_count": 6,
   "metadata": {},
   "outputs": [
    {
     "data": {
      "text/plain": [
       "array([100, 200, 300, 400, 500])"
      ]
     },
     "execution_count": 6,
     "metadata": {},
     "output_type": "execute_result"
    }
   ],
   "source": [
    "s.index.values"
   ]
  },
  {
   "cell_type": "code",
   "execution_count": 7,
   "metadata": {},
   "outputs": [
    {
     "data": {
      "text/plain": [
       "a    10\n",
       "b    20\n",
       "c    30\n",
       "d    40\n",
       "e    50\n",
       "dtype: int64"
      ]
     },
     "execution_count": 7,
     "metadata": {},
     "output_type": "execute_result"
    }
   ],
   "source": [
    "s.index = list('abcde')\n",
    "s"
   ]
  },
  {
   "cell_type": "code",
   "execution_count": 8,
   "metadata": {},
   "outputs": [
    {
     "data": {
      "text/plain": [
       "Index(['a', 'b', 'c', 'd', 'e'], dtype='object')"
      ]
     },
     "execution_count": 8,
     "metadata": {},
     "output_type": "execute_result"
    }
   ],
   "source": [
    "s.index"
   ]
  },
  {
   "cell_type": "code",
   "execution_count": 9,
   "metadata": {},
   "outputs": [],
   "source": [
    "s.index = pd.RangeIndex(100, 110, 2)"
   ]
  },
  {
   "cell_type": "code",
   "execution_count": 10,
   "metadata": {},
   "outputs": [
    {
     "data": {
      "text/plain": [
       "100    10\n",
       "102    20\n",
       "104    30\n",
       "106    40\n",
       "108    50\n",
       "dtype: int64"
      ]
     },
     "execution_count": 10,
     "metadata": {},
     "output_type": "execute_result"
    }
   ],
   "source": [
    "s"
   ]
  },
  {
   "cell_type": "code",
   "execution_count": 11,
   "metadata": {},
   "outputs": [
    {
     "data": {
      "text/plain": [
       "RangeIndex(start=100, stop=110, step=2)"
      ]
     },
     "execution_count": 11,
     "metadata": {},
     "output_type": "execute_result"
    }
   ],
   "source": [
    "s.index"
   ]
  },
  {
   "cell_type": "code",
   "execution_count": 12,
   "metadata": {},
   "outputs": [
    {
     "data": {
      "text/plain": [
       "30"
      ]
     },
     "execution_count": 12,
     "metadata": {},
     "output_type": "execute_result"
    }
   ],
   "source": [
    "s.loc[104] # use 104 as the index to look up a value"
   ]
  },
  {
   "cell_type": "code",
   "execution_count": 13,
   "metadata": {},
   "outputs": [
    {
     "data": {
      "text/plain": [
       "50"
      ]
     },
     "execution_count": 13,
     "metadata": {},
     "output_type": "execute_result"
    }
   ],
   "source": [
    "s.iloc[4]  # count from the start, to the 4th (starting with 0) item"
   ]
  },
  {
   "cell_type": "code",
   "execution_count": 14,
   "metadata": {},
   "outputs": [
    {
     "data": {
      "text/plain": [
       "0     10\n",
       "1     20\n",
       "2     30\n",
       "3     20\n",
       "4     30\n",
       "5     40\n",
       "6     30\n",
       "7     40\n",
       "8     40\n",
       "9     40\n",
       "10    50\n",
       "11    60\n",
       "12    70\n",
       "13    50\n",
       "14    70\n",
       "15    90\n",
       "dtype: int64"
      ]
     },
     "execution_count": 14,
     "metadata": {},
     "output_type": "execute_result"
    }
   ],
   "source": [
    "# value_counts\n",
    "\n",
    "s = Series([10, 20, 30, 20, 30, 40, 30, 40, 40, 40, 50, 60, 70, 50, 70,90])\n",
    "s"
   ]
  },
  {
   "cell_type": "code",
   "execution_count": 15,
   "metadata": {},
   "outputs": [
    {
     "data": {
      "text/plain": [
       "40    4\n",
       "30    3\n",
       "70    2\n",
       "20    2\n",
       "50    2\n",
       "60    1\n",
       "10    1\n",
       "90    1\n",
       "dtype: int64"
      ]
     },
     "execution_count": 15,
     "metadata": {},
     "output_type": "execute_result"
    }
   ],
   "source": [
    "s.value_counts()"
   ]
  },
  {
   "cell_type": "code",
   "execution_count": 16,
   "metadata": {},
   "outputs": [
    {
     "data": {
      "text/plain": [
       "40    4\n",
       "30    3\n",
       "70    2\n",
       "dtype: int64"
      ]
     },
     "execution_count": 16,
     "metadata": {},
     "output_type": "execute_result"
    }
   ],
   "source": [
    "# what are the three most common values in s?\n",
    "\n",
    "s.value_counts().head(3)"
   ]
  },
  {
   "cell_type": "code",
   "execution_count": 18,
   "metadata": {},
   "outputs": [
    {
     "data": {
      "text/plain": [
       "array([40, 30, 70])"
      ]
     },
     "execution_count": 18,
     "metadata": {},
     "output_type": "execute_result"
    }
   ],
   "source": [
    "s.value_counts().head(3).index.values"
   ]
  },
  {
   "cell_type": "code",
   "execution_count": 20,
   "metadata": {},
   "outputs": [
    {
     "data": {
      "text/plain": [
       "40    4\n",
       "30    3\n",
       "70    2\n",
       "20    2\n",
       "50    2\n",
       "60    1\n",
       "10    1\n",
       "90    1\n",
       "dtype: int64"
      ]
     },
     "execution_count": 20,
     "metadata": {},
     "output_type": "execute_result"
    }
   ],
   "source": [
    "s.value_counts()"
   ]
  },
  {
   "cell_type": "code",
   "execution_count": 23,
   "metadata": {},
   "outputs": [
    {
     "data": {
      "text/plain": [
       "40    0.2500\n",
       "30    0.1875\n",
       "70    0.1250\n",
       "20    0.1250\n",
       "50    0.1250\n",
       "60    0.0625\n",
       "10    0.0625\n",
       "90    0.0625\n",
       "dtype: float64"
      ]
     },
     "execution_count": 23,
     "metadata": {},
     "output_type": "execute_result"
    }
   ],
   "source": [
    "s.value_counts(normalize=True)"
   ]
  },
  {
   "cell_type": "code",
   "execution_count": 24,
   "metadata": {},
   "outputs": [
    {
     "data": {
      "text/plain": [
       "0    10\n",
       "1    20\n",
       "2    30\n",
       "3    40\n",
       "4    50\n",
       "5    60\n",
       "6    70\n",
       "dtype: int64"
      ]
     },
     "execution_count": 24,
     "metadata": {},
     "output_type": "execute_result"
    }
   ],
   "source": [
    "s = Series([10, 20, 30, 40, 50, 60, 70])\n",
    "s"
   ]
  },
  {
   "cell_type": "code",
   "execution_count": 25,
   "metadata": {},
   "outputs": [
    {
     "data": {
      "text/plain": [
       "0    10\n",
       "1    20\n",
       "2    30\n",
       "3    40\n",
       "4    50\n",
       "5    60\n",
       "6    70\n",
       "dtype: int16"
      ]
     },
     "execution_count": 25,
     "metadata": {},
     "output_type": "execute_result"
    }
   ],
   "source": [
    "s = Series([10, 20, 30, 40, 50, 60, 70], dtype=np.int16)\n",
    "s"
   ]
  },
  {
   "cell_type": "code",
   "execution_count": 26,
   "metadata": {},
   "outputs": [
    {
     "data": {
      "text/plain": [
       "0    10.0\n",
       "1    20.0\n",
       "2    30.0\n",
       "3    40.2\n",
       "4    50.0\n",
       "5    60.0\n",
       "6    70.0\n",
       "dtype: float64"
      ]
     },
     "execution_count": 26,
     "metadata": {},
     "output_type": "execute_result"
    }
   ],
   "source": [
    "s = Series([10, 20, 30, 40.2, 50, 60, 70])\n",
    "s"
   ]
  },
  {
   "cell_type": "code",
   "execution_count": 27,
   "metadata": {},
   "outputs": [
    {
     "data": {
      "text/plain": [
       "array(['this', 'is', 'a', 'very', 'interesting', 'demo'], dtype='<U11')"
      ]
     },
     "execution_count": 27,
     "metadata": {},
     "output_type": "execute_result"
    }
   ],
   "source": [
    "a = np.array('this is a very interesting demo'.split())\n",
    "a"
   ]
  },
  {
   "cell_type": "code",
   "execution_count": 28,
   "metadata": {},
   "outputs": [
    {
     "data": {
      "text/plain": [
       "0           this\n",
       "1             is\n",
       "2              a\n",
       "3           very\n",
       "4    interesting\n",
       "5           demo\n",
       "dtype: object"
      ]
     },
     "execution_count": 28,
     "metadata": {},
     "output_type": "execute_result"
    }
   ],
   "source": [
    "s = Series('this is a very interesting demo'.split())\n",
    "s\n"
   ]
  },
  {
   "cell_type": "code",
   "execution_count": 29,
   "metadata": {},
   "outputs": [
    {
     "data": {
      "text/plain": [
       "6"
      ]
     },
     "execution_count": 29,
     "metadata": {},
     "output_type": "execute_result"
    }
   ],
   "source": [
    "len(s)"
   ]
  },
  {
   "cell_type": "code",
   "execution_count": 30,
   "metadata": {},
   "outputs": [
    {
     "name": "stdout",
     "output_type": "stream",
     "text": [
      "this: 4\n",
      "is: 2\n",
      "a: 1\n",
      "very: 4\n",
      "interesting: 11\n",
      "demo: 4\n"
     ]
    }
   ],
   "source": [
    "for one_item in s:\n",
    "    print(f'{one_item}: {len(one_item)}')"
   ]
  },
  {
   "cell_type": "code",
   "execution_count": 31,
   "metadata": {},
   "outputs": [
    {
     "data": {
      "text/plain": [
       "<pandas.core.strings.StringMethods at 0x1255e7e80>"
      ]
     },
     "execution_count": 31,
     "metadata": {},
     "output_type": "execute_result"
    }
   ],
   "source": [
    "# the .str proxy on a series lets us apply a string method to every string in the series\n",
    "\n",
    "s.str"
   ]
  },
  {
   "cell_type": "code",
   "execution_count": 32,
   "metadata": {},
   "outputs": [
    {
     "data": {
      "text/plain": [
       "0     4\n",
       "1     2\n",
       "2     1\n",
       "3     4\n",
       "4    11\n",
       "5     4\n",
       "dtype: int64"
      ]
     },
     "execution_count": 32,
     "metadata": {},
     "output_type": "execute_result"
    }
   ],
   "source": [
    "s.str.len()"
   ]
  },
  {
   "cell_type": "code",
   "execution_count": 33,
   "metadata": {},
   "outputs": [
    {
     "data": {
      "text/plain": [
       "0      10\n",
       "1      20\n",
       "2      30\n",
       "3    abcd\n",
       "4      50\n",
       "5      60\n",
       "6      70\n",
       "dtype: object"
      ]
     },
     "execution_count": 33,
     "metadata": {},
     "output_type": "execute_result"
    }
   ],
   "source": [
    "s = Series('10 20 30 abcd 50 60 70'.split())\n",
    "s"
   ]
  },
  {
   "cell_type": "code",
   "execution_count": 34,
   "metadata": {},
   "outputs": [
    {
     "ename": "ValueError",
     "evalue": "invalid literal for int() with base 10: 'abcd'",
     "output_type": "error",
     "traceback": [
      "\u001b[0;31m---------------------------------------------------------------------------\u001b[0m",
      "\u001b[0;31mValueError\u001b[0m                                Traceback (most recent call last)",
      "\u001b[0;32m<ipython-input-34-72795da3b380>\u001b[0m in \u001b[0;36m<module>\u001b[0;34m\u001b[0m\n\u001b[0;32m----> 1\u001b[0;31m \u001b[0ms\u001b[0m\u001b[0;34m.\u001b[0m\u001b[0mastype\u001b[0m\u001b[0;34m(\u001b[0m\u001b[0mnp\u001b[0m\u001b[0;34m.\u001b[0m\u001b[0mint64\u001b[0m\u001b[0;34m)\u001b[0m\u001b[0;34m\u001b[0m\u001b[0;34m\u001b[0m\u001b[0m\n\u001b[0m",
      "\u001b[0;32m/usr/local/lib/python3.8/site-packages/pandas/core/generic.py\u001b[0m in \u001b[0;36mastype\u001b[0;34m(self, dtype, copy, errors)\u001b[0m\n\u001b[1;32m   5541\u001b[0m         \u001b[0;32melse\u001b[0m\u001b[0;34m:\u001b[0m\u001b[0;34m\u001b[0m\u001b[0;34m\u001b[0m\u001b[0m\n\u001b[1;32m   5542\u001b[0m             \u001b[0;31m# else, only a single dtype is given\u001b[0m\u001b[0;34m\u001b[0m\u001b[0;34m\u001b[0m\u001b[0;34m\u001b[0m\u001b[0m\n\u001b[0;32m-> 5543\u001b[0;31m             \u001b[0mnew_data\u001b[0m \u001b[0;34m=\u001b[0m \u001b[0mself\u001b[0m\u001b[0;34m.\u001b[0m\u001b[0m_mgr\u001b[0m\u001b[0;34m.\u001b[0m\u001b[0mastype\u001b[0m\u001b[0;34m(\u001b[0m\u001b[0mdtype\u001b[0m\u001b[0;34m=\u001b[0m\u001b[0mdtype\u001b[0m\u001b[0;34m,\u001b[0m \u001b[0mcopy\u001b[0m\u001b[0;34m=\u001b[0m\u001b[0mcopy\u001b[0m\u001b[0;34m,\u001b[0m \u001b[0merrors\u001b[0m\u001b[0;34m=\u001b[0m\u001b[0merrors\u001b[0m\u001b[0;34m,\u001b[0m\u001b[0;34m)\u001b[0m\u001b[0;34m\u001b[0m\u001b[0;34m\u001b[0m\u001b[0m\n\u001b[0m\u001b[1;32m   5544\u001b[0m             \u001b[0;32mreturn\u001b[0m \u001b[0mself\u001b[0m\u001b[0;34m.\u001b[0m\u001b[0m_constructor\u001b[0m\u001b[0;34m(\u001b[0m\u001b[0mnew_data\u001b[0m\u001b[0;34m)\u001b[0m\u001b[0;34m.\u001b[0m\u001b[0m__finalize__\u001b[0m\u001b[0;34m(\u001b[0m\u001b[0mself\u001b[0m\u001b[0;34m,\u001b[0m \u001b[0mmethod\u001b[0m\u001b[0;34m=\u001b[0m\u001b[0;34m\"astype\"\u001b[0m\u001b[0;34m)\u001b[0m\u001b[0;34m\u001b[0m\u001b[0;34m\u001b[0m\u001b[0m\n\u001b[1;32m   5545\u001b[0m \u001b[0;34m\u001b[0m\u001b[0m\n",
      "\u001b[0;32m/usr/local/lib/python3.8/site-packages/pandas/core/internals/managers.py\u001b[0m in \u001b[0;36mastype\u001b[0;34m(self, dtype, copy, errors)\u001b[0m\n\u001b[1;32m    593\u001b[0m         \u001b[0mself\u001b[0m\u001b[0;34m,\u001b[0m \u001b[0mdtype\u001b[0m\u001b[0;34m,\u001b[0m \u001b[0mcopy\u001b[0m\u001b[0;34m:\u001b[0m \u001b[0mbool\u001b[0m \u001b[0;34m=\u001b[0m \u001b[0;32mFalse\u001b[0m\u001b[0;34m,\u001b[0m \u001b[0merrors\u001b[0m\u001b[0;34m:\u001b[0m \u001b[0mstr\u001b[0m \u001b[0;34m=\u001b[0m \u001b[0;34m\"raise\"\u001b[0m\u001b[0;34m\u001b[0m\u001b[0;34m\u001b[0m\u001b[0m\n\u001b[1;32m    594\u001b[0m     ) -> \"BlockManager\":\n\u001b[0;32m--> 595\u001b[0;31m         \u001b[0;32mreturn\u001b[0m \u001b[0mself\u001b[0m\u001b[0;34m.\u001b[0m\u001b[0mapply\u001b[0m\u001b[0;34m(\u001b[0m\u001b[0;34m\"astype\"\u001b[0m\u001b[0;34m,\u001b[0m \u001b[0mdtype\u001b[0m\u001b[0;34m=\u001b[0m\u001b[0mdtype\u001b[0m\u001b[0;34m,\u001b[0m \u001b[0mcopy\u001b[0m\u001b[0;34m=\u001b[0m\u001b[0mcopy\u001b[0m\u001b[0;34m,\u001b[0m \u001b[0merrors\u001b[0m\u001b[0;34m=\u001b[0m\u001b[0merrors\u001b[0m\u001b[0;34m)\u001b[0m\u001b[0;34m\u001b[0m\u001b[0;34m\u001b[0m\u001b[0m\n\u001b[0m\u001b[1;32m    596\u001b[0m \u001b[0;34m\u001b[0m\u001b[0m\n\u001b[1;32m    597\u001b[0m     def convert(\n",
      "\u001b[0;32m/usr/local/lib/python3.8/site-packages/pandas/core/internals/managers.py\u001b[0m in \u001b[0;36mapply\u001b[0;34m(self, f, align_keys, **kwargs)\u001b[0m\n\u001b[1;32m    404\u001b[0m                 \u001b[0mapplied\u001b[0m \u001b[0;34m=\u001b[0m \u001b[0mb\u001b[0m\u001b[0;34m.\u001b[0m\u001b[0mapply\u001b[0m\u001b[0;34m(\u001b[0m\u001b[0mf\u001b[0m\u001b[0;34m,\u001b[0m \u001b[0;34m**\u001b[0m\u001b[0mkwargs\u001b[0m\u001b[0;34m)\u001b[0m\u001b[0;34m\u001b[0m\u001b[0;34m\u001b[0m\u001b[0m\n\u001b[1;32m    405\u001b[0m             \u001b[0;32melse\u001b[0m\u001b[0;34m:\u001b[0m\u001b[0;34m\u001b[0m\u001b[0;34m\u001b[0m\u001b[0m\n\u001b[0;32m--> 406\u001b[0;31m                 \u001b[0mapplied\u001b[0m \u001b[0;34m=\u001b[0m \u001b[0mgetattr\u001b[0m\u001b[0;34m(\u001b[0m\u001b[0mb\u001b[0m\u001b[0;34m,\u001b[0m \u001b[0mf\u001b[0m\u001b[0;34m)\u001b[0m\u001b[0;34m(\u001b[0m\u001b[0;34m**\u001b[0m\u001b[0mkwargs\u001b[0m\u001b[0;34m)\u001b[0m\u001b[0;34m\u001b[0m\u001b[0;34m\u001b[0m\u001b[0m\n\u001b[0m\u001b[1;32m    407\u001b[0m             \u001b[0mresult_blocks\u001b[0m \u001b[0;34m=\u001b[0m \u001b[0m_extend_blocks\u001b[0m\u001b[0;34m(\u001b[0m\u001b[0mapplied\u001b[0m\u001b[0;34m,\u001b[0m \u001b[0mresult_blocks\u001b[0m\u001b[0;34m)\u001b[0m\u001b[0;34m\u001b[0m\u001b[0;34m\u001b[0m\u001b[0m\n\u001b[1;32m    408\u001b[0m \u001b[0;34m\u001b[0m\u001b[0m\n",
      "\u001b[0;32m/usr/local/lib/python3.8/site-packages/pandas/core/internals/blocks.py\u001b[0m in \u001b[0;36mastype\u001b[0;34m(self, dtype, copy, errors)\u001b[0m\n\u001b[1;32m    592\u001b[0m             \u001b[0mvals1d\u001b[0m \u001b[0;34m=\u001b[0m \u001b[0mvalues\u001b[0m\u001b[0;34m.\u001b[0m\u001b[0mravel\u001b[0m\u001b[0;34m(\u001b[0m\u001b[0;34m)\u001b[0m\u001b[0;34m\u001b[0m\u001b[0;34m\u001b[0m\u001b[0m\n\u001b[1;32m    593\u001b[0m             \u001b[0;32mtry\u001b[0m\u001b[0;34m:\u001b[0m\u001b[0;34m\u001b[0m\u001b[0;34m\u001b[0m\u001b[0m\n\u001b[0;32m--> 594\u001b[0;31m                 \u001b[0mvalues\u001b[0m \u001b[0;34m=\u001b[0m \u001b[0mastype_nansafe\u001b[0m\u001b[0;34m(\u001b[0m\u001b[0mvals1d\u001b[0m\u001b[0;34m,\u001b[0m \u001b[0mdtype\u001b[0m\u001b[0;34m,\u001b[0m \u001b[0mcopy\u001b[0m\u001b[0;34m=\u001b[0m\u001b[0;32mTrue\u001b[0m\u001b[0;34m)\u001b[0m\u001b[0;34m\u001b[0m\u001b[0;34m\u001b[0m\u001b[0m\n\u001b[0m\u001b[1;32m    595\u001b[0m             \u001b[0;32mexcept\u001b[0m \u001b[0;34m(\u001b[0m\u001b[0mValueError\u001b[0m\u001b[0;34m,\u001b[0m \u001b[0mTypeError\u001b[0m\u001b[0;34m)\u001b[0m\u001b[0;34m:\u001b[0m\u001b[0;34m\u001b[0m\u001b[0;34m\u001b[0m\u001b[0m\n\u001b[1;32m    596\u001b[0m                 \u001b[0;31m# e.g. astype_nansafe can fail on object-dtype of strings\u001b[0m\u001b[0;34m\u001b[0m\u001b[0;34m\u001b[0m\u001b[0;34m\u001b[0m\u001b[0m\n",
      "\u001b[0;32m/usr/local/lib/python3.8/site-packages/pandas/core/dtypes/cast.py\u001b[0m in \u001b[0;36mastype_nansafe\u001b[0;34m(arr, dtype, copy, skipna)\u001b[0m\n\u001b[1;32m    965\u001b[0m         \u001b[0;31m# work around NumPy brokenness, #1987\u001b[0m\u001b[0;34m\u001b[0m\u001b[0;34m\u001b[0m\u001b[0;34m\u001b[0m\u001b[0m\n\u001b[1;32m    966\u001b[0m         \u001b[0;32mif\u001b[0m \u001b[0mnp\u001b[0m\u001b[0;34m.\u001b[0m\u001b[0missubdtype\u001b[0m\u001b[0;34m(\u001b[0m\u001b[0mdtype\u001b[0m\u001b[0;34m.\u001b[0m\u001b[0mtype\u001b[0m\u001b[0;34m,\u001b[0m \u001b[0mnp\u001b[0m\u001b[0;34m.\u001b[0m\u001b[0minteger\u001b[0m\u001b[0;34m)\u001b[0m\u001b[0;34m:\u001b[0m\u001b[0;34m\u001b[0m\u001b[0;34m\u001b[0m\u001b[0m\n\u001b[0;32m--> 967\u001b[0;31m             \u001b[0;32mreturn\u001b[0m \u001b[0mlib\u001b[0m\u001b[0;34m.\u001b[0m\u001b[0mastype_intsafe\u001b[0m\u001b[0;34m(\u001b[0m\u001b[0marr\u001b[0m\u001b[0;34m.\u001b[0m\u001b[0mravel\u001b[0m\u001b[0;34m(\u001b[0m\u001b[0;34m)\u001b[0m\u001b[0;34m,\u001b[0m \u001b[0mdtype\u001b[0m\u001b[0;34m)\u001b[0m\u001b[0;34m.\u001b[0m\u001b[0mreshape\u001b[0m\u001b[0;34m(\u001b[0m\u001b[0marr\u001b[0m\u001b[0;34m.\u001b[0m\u001b[0mshape\u001b[0m\u001b[0;34m)\u001b[0m\u001b[0;34m\u001b[0m\u001b[0;34m\u001b[0m\u001b[0m\n\u001b[0m\u001b[1;32m    968\u001b[0m \u001b[0;34m\u001b[0m\u001b[0m\n\u001b[1;32m    969\u001b[0m         \u001b[0;31m# if we have a datetime/timedelta array of objects\u001b[0m\u001b[0;34m\u001b[0m\u001b[0;34m\u001b[0m\u001b[0;34m\u001b[0m\u001b[0m\n",
      "\u001b[0;32mpandas/_libs/lib.pyx\u001b[0m in \u001b[0;36mpandas._libs.lib.astype_intsafe\u001b[0;34m()\u001b[0m\n",
      "\u001b[0;31mValueError\u001b[0m: invalid literal for int() with base 10: 'abcd'"
     ]
    }
   ],
   "source": [
    "s.astype(np.int64)"
   ]
  },
  {
   "cell_type": "code",
   "execution_count": 35,
   "metadata": {},
   "outputs": [
    {
     "data": {
      "text/plain": [
       "0      10\n",
       "1      20\n",
       "2      30\n",
       "3    abcd\n",
       "4      50\n",
       "5      60\n",
       "6      70\n",
       "dtype: object"
      ]
     },
     "execution_count": 35,
     "metadata": {},
     "output_type": "execute_result"
    }
   ],
   "source": [
    "# I want to get the mean of the numbers in series s\n",
    "s"
   ]
  },
  {
   "cell_type": "code",
   "execution_count": 36,
   "metadata": {},
   "outputs": [
    {
     "data": {
      "text/plain": [
       "'102030abcd506070'"
      ]
     },
     "execution_count": 36,
     "metadata": {},
     "output_type": "execute_result"
    }
   ],
   "source": [
    "s.sum()"
   ]
  },
  {
   "cell_type": "code",
   "execution_count": 37,
   "metadata": {},
   "outputs": [
    {
     "data": {
      "text/plain": [
       "0     True\n",
       "1     True\n",
       "2     True\n",
       "3    False\n",
       "4     True\n",
       "5     True\n",
       "6     True\n",
       "dtype: bool"
      ]
     },
     "execution_count": 37,
     "metadata": {},
     "output_type": "execute_result"
    }
   ],
   "source": [
    "s.str.isdigit()"
   ]
  },
  {
   "cell_type": "code",
   "execution_count": 38,
   "metadata": {},
   "outputs": [
    {
     "data": {
      "text/plain": [
       "0    10\n",
       "1    20\n",
       "2    30\n",
       "4    50\n",
       "5    60\n",
       "6    70\n",
       "dtype: object"
      ]
     },
     "execution_count": 38,
     "metadata": {},
     "output_type": "execute_result"
    }
   ],
   "source": [
    "s[s.str.isdigit()]"
   ]
  },
  {
   "cell_type": "code",
   "execution_count": 39,
   "metadata": {},
   "outputs": [
    {
     "data": {
      "text/plain": [
       "0    10\n",
       "1    20\n",
       "2    30\n",
       "4    50\n",
       "5    60\n",
       "6    70\n",
       "dtype: int64"
      ]
     },
     "execution_count": 39,
     "metadata": {},
     "output_type": "execute_result"
    }
   ],
   "source": [
    "s[s.str.isdigit()].astype(np.int64)"
   ]
  },
  {
   "cell_type": "markdown",
   "metadata": {},
   "source": [
    "# Exercises: Pandas and strings\n",
    "\n",
    "1. Create a series containing 10 words of varying lengths.\n",
    "2. Find the words whose length is odd.\n",
    "3. Find the words whose length is shorter than the mean.\n",
    "4. Find the words (if any) that contain both 'a' and 'e'.  (Hint: Use the \"contains\" method)"
   ]
  },
  {
   "cell_type": "code",
   "execution_count": 40,
   "metadata": {},
   "outputs": [
    {
     "data": {
      "text/plain": [
       "0             this\n",
       "1               is\n",
       "2                a\n",
       "3        fantastic\n",
       "4    demonstration\n",
       "5               of\n",
       "6                a\n",
       "7              few\n",
       "8      interesting\n",
       "9            words\n",
       "dtype: object"
      ]
     },
     "execution_count": 40,
     "metadata": {},
     "output_type": "execute_result"
    }
   ],
   "source": [
    "s = Series('this is a fantastic demonstration of a few interesting words'.split())\n",
    "s"
   ]
  },
  {
   "cell_type": "code",
   "execution_count": 44,
   "metadata": {},
   "outputs": [
    {
     "data": {
      "text/plain": [
       "2                a\n",
       "3        fantastic\n",
       "4    demonstration\n",
       "6                a\n",
       "7              few\n",
       "8      interesting\n",
       "9            words\n",
       "dtype: object"
      ]
     },
     "execution_count": 44,
     "metadata": {},
     "output_type": "execute_result"
    }
   ],
   "source": [
    "s[s.str.len() % 2 == 1]"
   ]
  },
  {
   "cell_type": "code",
   "execution_count": 47,
   "metadata": {},
   "outputs": [
    {
     "data": {
      "text/plain": [
       "0     this\n",
       "1       is\n",
       "2        a\n",
       "5       of\n",
       "6        a\n",
       "7      few\n",
       "9    words\n",
       "dtype: object"
      ]
     },
     "execution_count": 47,
     "metadata": {},
     "output_type": "execute_result"
    }
   ],
   "source": [
    "s[s.str.len() < s.str.len().mean()]"
   ]
  },
  {
   "cell_type": "code",
   "execution_count": 50,
   "metadata": {},
   "outputs": [
    {
     "data": {
      "text/plain": [
       "4    demonstration\n",
       "dtype: object"
      ]
     },
     "execution_count": 50,
     "metadata": {},
     "output_type": "execute_result"
    }
   ],
   "source": [
    "s[s.str.contains('a')  & s.str.contains('e')]"
   ]
  },
  {
   "cell_type": "code",
   "execution_count": 51,
   "metadata": {},
   "outputs": [],
   "source": [
    "# regular expressions\n",
    "\n",
    "# https://RegexpCrashCourse.com/  "
   ]
  },
  {
   "cell_type": "code",
   "execution_count": 53,
   "metadata": {},
   "outputs": [
    {
     "data": {
      "text/plain": [
       "4    demonstration\n",
       "dtype: object"
      ]
     },
     "execution_count": 53,
     "metadata": {},
     "output_type": "execute_result"
    }
   ],
   "source": [
    "s[s.str.contains('a.*e|e.*a')]"
   ]
  },
  {
   "cell_type": "code",
   "execution_count": 54,
   "metadata": {
    "collapsed": true
   },
   "outputs": [
    {
     "name": "stdout",
     "output_type": "stream",
     "text": [
      "Help on method contains in module pandas.core.strings:\n",
      "\n",
      "contains(pat, case=True, flags=0, na=nan, regex=True) method of pandas.core.strings.StringMethods instance\n",
      "    Test if pattern or regex is contained within a string of a Series or Index.\n",
      "    \n",
      "    Return boolean Series or Index based on whether a given pattern or regex is\n",
      "    contained within a string of a Series or Index.\n",
      "    \n",
      "    Parameters\n",
      "    ----------\n",
      "    pat : str\n",
      "        Character sequence or regular expression.\n",
      "    case : bool, default True\n",
      "        If True, case sensitive.\n",
      "    flags : int, default 0 (no flags)\n",
      "        Flags to pass through to the re module, e.g. re.IGNORECASE.\n",
      "    na : default NaN\n",
      "        Fill value for missing values.\n",
      "    regex : bool, default True\n",
      "        If True, assumes the pat is a regular expression.\n",
      "    \n",
      "        If False, treats the pat as a literal string.\n",
      "    \n",
      "    Returns\n",
      "    -------\n",
      "    Series or Index of boolean values\n",
      "        A Series or Index of boolean values indicating whether the\n",
      "        given pattern is contained within the string of each element\n",
      "        of the Series or Index.\n",
      "    \n",
      "    See Also\n",
      "    --------\n",
      "    match : Analogous, but stricter, relying on re.match instead of re.search.\n",
      "    Series.str.startswith : Test if the start of each string element matches a\n",
      "        pattern.\n",
      "    Series.str.endswith : Same as startswith, but tests the end of string.\n",
      "    \n",
      "    Examples\n",
      "    --------\n",
      "    Returning a Series of booleans using only a literal pattern.\n",
      "    \n",
      "    >>> s1 = pd.Series(['Mouse', 'dog', 'house and parrot', '23', np.NaN])\n",
      "    >>> s1.str.contains('og', regex=False)\n",
      "    0    False\n",
      "    1     True\n",
      "    2    False\n",
      "    3    False\n",
      "    4      NaN\n",
      "    dtype: object\n",
      "    \n",
      "    Returning an Index of booleans using only a literal pattern.\n",
      "    \n",
      "    >>> ind = pd.Index(['Mouse', 'dog', 'house and parrot', '23.0', np.NaN])\n",
      "    >>> ind.str.contains('23', regex=False)\n",
      "    Index([False, False, False, True, nan], dtype='object')\n",
      "    \n",
      "    Specifying case sensitivity using `case`.\n",
      "    \n",
      "    >>> s1.str.contains('oG', case=True, regex=True)\n",
      "    0    False\n",
      "    1    False\n",
      "    2    False\n",
      "    3    False\n",
      "    4      NaN\n",
      "    dtype: object\n",
      "    \n",
      "    Specifying `na` to be `False` instead of `NaN` replaces NaN values\n",
      "    with `False`. If Series or Index does not contain NaN values\n",
      "    the resultant dtype will be `bool`, otherwise, an `object` dtype.\n",
      "    \n",
      "    >>> s1.str.contains('og', na=False, regex=True)\n",
      "    0    False\n",
      "    1     True\n",
      "    2    False\n",
      "    3    False\n",
      "    4    False\n",
      "    dtype: bool\n",
      "    \n",
      "    Returning 'house' or 'dog' when either expression occurs in a string.\n",
      "    \n",
      "    >>> s1.str.contains('house|dog', regex=True)\n",
      "    0    False\n",
      "    1     True\n",
      "    2     True\n",
      "    3    False\n",
      "    4      NaN\n",
      "    dtype: object\n",
      "    \n",
      "    Ignoring case sensitivity using `flags` with regex.\n",
      "    \n",
      "    >>> import re\n",
      "    >>> s1.str.contains('PARROT', flags=re.IGNORECASE, regex=True)\n",
      "    0    False\n",
      "    1    False\n",
      "    2     True\n",
      "    3    False\n",
      "    4      NaN\n",
      "    dtype: object\n",
      "    \n",
      "    Returning any digit using regular expression.\n",
      "    \n",
      "    >>> s1.str.contains('\\d', regex=True)\n",
      "    0    False\n",
      "    1    False\n",
      "    2    False\n",
      "    3     True\n",
      "    4      NaN\n",
      "    dtype: object\n",
      "    \n",
      "    Ensure `pat` is a not a literal pattern when `regex` is set to True.\n",
      "    Note in the following example one might expect only `s2[1]` and `s2[3]` to\n",
      "    return `True`. However, '.0' as a regex matches any character\n",
      "    followed by a 0.\n",
      "    \n",
      "    >>> s2 = pd.Series(['40', '40.0', '41', '41.0', '35'])\n",
      "    >>> s2.str.contains('.0', regex=True)\n",
      "    0     True\n",
      "    1     True\n",
      "    2    False\n",
      "    3     True\n",
      "    4    False\n",
      "    dtype: bool\n",
      "\n"
     ]
    }
   ],
   "source": [
    "help(s.str.contains)"
   ]
  },
  {
   "cell_type": "code",
   "execution_count": 55,
   "metadata": {},
   "outputs": [
    {
     "data": {
      "text/plain": [
       "0    10\n",
       "1    20\n",
       "2    30\n",
       "3    20\n",
       "4    30\n",
       "5    40\n",
       "6    50\n",
       "7    30\n",
       "8    10\n",
       "dtype: int64"
      ]
     },
     "execution_count": 55,
     "metadata": {},
     "output_type": "execute_result"
    }
   ],
   "source": [
    "s = Series([10, 20, 30, 20, 30, 40, 50, 30, 10])\n",
    "\n",
    "s"
   ]
  },
  {
   "cell_type": "code",
   "execution_count": 56,
   "metadata": {},
   "outputs": [
    {
     "data": {
      "text/plain": [
       "<AxesSubplot:>"
      ]
     },
     "execution_count": 56,
     "metadata": {},
     "output_type": "execute_result"
    },
    {
     "data": {
      "image/png": "[encoded data removed]",
      "text/plain": [
       "<Figure size 432x288 with 1 Axes>"
      ]
     },
     "metadata": {
      "needs_background": "light"
     },
     "output_type": "display_data"
    }
   ],
   "source": [
    "s.plot()  # line plot -- we could also say s.plot.line()"
   ]
  },
  {
   "cell_type": "code",
   "execution_count": 57,
   "metadata": {},
   "outputs": [
    {
     "data": {
      "text/plain": [
       "<AxesSubplot:>"
      ]
     },
     "execution_count": 57,
     "metadata": {},
     "output_type": "execute_result"
    },
    {
     "data": {
      "image/png": "[encoded data removed]",
      "text/plain": [
       "<Figure size 432x288 with 1 Axes>"
      ]
     },
     "metadata": {
      "needs_background": "light"
     },
     "output_type": "display_data"
    }
   ],
   "source": [
    "s.plot.line()"
   ]
  },
  {
   "cell_type": "code",
   "execution_count": 59,
   "metadata": {},
   "outputs": [
    {
     "data": {
      "text/plain": [
       "<AxesSubplot:>"
      ]
     },
     "execution_count": 59,
     "metadata": {},
     "output_type": "execute_result"
    },
    {
     "data": {
      "image/png": "[encoded data removed]",
      "text/plain": [
       "<Figure size 432x288 with 1 Axes>"
      ]
     },
     "metadata": {
      "needs_background": "light"
     },
     "output_type": "display_data"
    }
   ],
   "source": [
    "s.plot.bar()"
   ]
  },
  {
   "cell_type": "code",
   "execution_count": 60,
   "metadata": {},
   "outputs": [
    {
     "data": {
      "text/plain": [
       "0      36\n",
       "1      64\n",
       "2      48\n",
       "3      99\n",
       "4       7\n",
       "       ..\n",
       "995     9\n",
       "996    95\n",
       "997    13\n",
       "998    72\n",
       "999    21\n",
       "Length: 1000, dtype: int64"
      ]
     },
     "execution_count": 60,
     "metadata": {},
     "output_type": "execute_result"
    }
   ],
   "source": [
    "s = Series(np.random.randint(0, 100, 1000))\n",
    "s"
   ]
  },
  {
   "cell_type": "code",
   "execution_count": 61,
   "metadata": {},
   "outputs": [
    {
     "data": {
      "text/plain": [
       "<AxesSubplot:>"
      ]
     },
     "execution_count": 61,
     "metadata": {},
     "output_type": "execute_result"
    },
    {
     "data": {
      "image/png": "[encoded data removed]",
      "text/plain": [
       "<Figure size 432x288 with 1 Axes>"
      ]
     },
     "metadata": {
      "needs_background": "light"
     },
     "output_type": "display_data"
    }
   ],
   "source": [
    "s.plot.line()"
   ]
  },
  {
   "cell_type": "code",
   "execution_count": 62,
   "metadata": {},
   "outputs": [
    {
     "data": {
      "text/plain": [
       "<AxesSubplot:>"
      ]
     },
     "execution_count": 62,
     "metadata": {},
     "output_type": "execute_result"
    },
    {
     "data": {
      "image/png": "[encoded data removed]",
      "text/plain": [
       "<Figure size 432x288 with 1 Axes>"
      ]
     },
     "metadata": {
      "needs_background": "light"
     },
     "output_type": "display_data"
    }
   ],
   "source": [
    "s[:100].plot.line()"
   ]
  },
  {
   "cell_type": "code",
   "execution_count": 63,
   "metadata": {},
   "outputs": [
    {
     "data": {
      "text/plain": [
       "86    17\n",
       "73    17\n",
       "81    16\n",
       "3     16\n",
       "5     16\n",
       "      ..\n",
       "24     5\n",
       "85     5\n",
       "26     4\n",
       "16     3\n",
       "62     2\n",
       "Length: 100, dtype: int64"
      ]
     },
     "execution_count": 63,
     "metadata": {},
     "output_type": "execute_result"
    }
   ],
   "source": [
    "s.value_counts()"
   ]
  },
  {
   "cell_type": "code",
   "execution_count": 64,
   "metadata": {},
   "outputs": [
    {
     "data": {
      "text/plain": [
       "<AxesSubplot:ylabel='Frequency'>"
      ]
     },
     "execution_count": 64,
     "metadata": {},
     "output_type": "execute_result"
    },
    {
     "data": {
      "image/png": "[encoded data removed]",
      "text/plain": [
       "<Figure size 432x288 with 1 Axes>"
      ]
     },
     "metadata": {
      "needs_background": "light"
     },
     "output_type": "display_data"
    }
   ],
   "source": [
    "# histogram -- shows us how often each value appeared\n",
    "\n",
    "s.plot.hist()"
   ]
  },
  {
   "cell_type": "code",
   "execution_count": 66,
   "metadata": {},
   "outputs": [
    {
     "data": {
      "text/plain": [
       "<AxesSubplot:>"
      ]
     },
     "execution_count": 66,
     "metadata": {},
     "output_type": "execute_result"
    },
    {
     "data": {
      "image/png": "[encoded data removed]",
      "text/plain": [
       "<Figure size 432x288 with 1 Axes>"
      ]
     },
     "metadata": {
      "needs_background": "light"
     },
     "output_type": "display_data"
    }
   ],
   "source": [
    "s = s[:40]\n",
    "s.plot.line()"
   ]
  },
  {
   "cell_type": "code",
   "execution_count": 68,
   "metadata": {},
   "outputs": [
    {
     "data": {
      "text/plain": [
       "<AxesSubplot:title={'center':'My Amazing Plot'}>"
      ]
     },
     "execution_count": 68,
     "metadata": {},
     "output_type": "execute_result"
    },
    {
     "data": {
      "image/png": "[encoded data removed]",
      "text/plain": [
       "<Figure size 432x288 with 1 Axes>"
      ]
     },
     "metadata": {
      "needs_background": "light"
     },
     "output_type": "display_data"
    }
   ],
   "source": [
    "s.plot.line(color='pink', title='My Amazing Plot')"
   ]
  },
  {
   "cell_type": "code",
   "execution_count": 69,
   "metadata": {},
   "outputs": [
    {
     "name": "stdout",
     "output_type": "stream",
     "text": [
      "Help on method line in module pandas.plotting._core:\n",
      "\n",
      "line(x=None, y=None, **kwargs) method of pandas.plotting._core.PlotAccessor instance\n",
      "    Plot Series or DataFrame as lines.\n",
      "    \n",
      "    This function is useful to plot lines using DataFrame's values\n",
      "    as coordinates.\n",
      "    \n",
      "    Parameters\n",
      "    ----------\n",
      "    x : label or position, optional\n",
      "        Allows plotting of one column versus another. If not specified,\n",
      "        the index of the DataFrame is used.\n",
      "    y : label or position, optional\n",
      "        Allows plotting of one column versus another. If not specified,\n",
      "        all numerical columns are used.\n",
      "    color : str, array_like, or dict, optional\n",
      "        The color for each of the DataFrame's columns. Possible values are:\n",
      "    \n",
      "        - A single color string referred to by name, RGB or RGBA code,\n",
      "            for instance 'red' or '#a98d19'.\n",
      "    \n",
      "        - A sequence of color strings referred to by name, RGB or RGBA\n",
      "            code, which will be used for each column recursively. For\n",
      "            instance ['green','yellow'] each column's line will be filled in\n",
      "            green or yellow, alternatively.\n",
      "    \n",
      "        - A dict of the form {column name : color}, so that each column will be\n",
      "            colored accordingly. For example, if your columns are called `a` and\n",
      "            `b`, then passing {'a': 'green', 'b': 'red'} will color lines for\n",
      "            column `a` in green and lines for column `b` in red.\n",
      "    \n",
      "        .. versionadded:: 1.1.0\n",
      "    \n",
      "    **kwargs\n",
      "        Additional keyword arguments are documented in\n",
      "        :meth:`DataFrame.plot`.\n",
      "    \n",
      "    Returns\n",
      "    -------\n",
      "    matplotlib.axes.Axes or np.ndarray of them\n",
      "        An ndarray is returned with one :class:`matplotlib.axes.Axes`\n",
      "        per column when ``subplots=True``.\n",
      "    \n",
      "            See Also\n",
      "            --------\n",
      "            matplotlib.pyplot.plot : Plot y versus x as lines and/or markers.\n",
      "    \n",
      "            Examples\n",
      "            --------\n",
      "    \n",
      "            .. plot::\n",
      "                :context: close-figs\n",
      "    \n",
      "                >>> s = pd.Series([1, 3, 2])\n",
      "                >>> s.plot.line()\n",
      "    \n",
      "            .. plot::\n",
      "                :context: close-figs\n",
      "    \n",
      "                The following example shows the populations for some animals\n",
      "                over the years.\n",
      "    \n",
      "                >>> df = pd.DataFrame({\n",
      "                ...    'pig': [20, 18, 489, 675, 1776],\n",
      "                ...    'horse': [4, 25, 281, 600, 1900]\n",
      "                ...    }, index=[1990, 1997, 2003, 2009, 2014])\n",
      "                >>> lines = df.plot.line()\n",
      "    \n",
      "            .. plot::\n",
      "               :context: close-figs\n",
      "    \n",
      "               An example with subplots, so an array of axes is returned.\n",
      "    \n",
      "               >>> axes = df.plot.line(subplots=True)\n",
      "               >>> type(axes)\n",
      "               <class 'numpy.ndarray'>\n",
      "    \n",
      "            .. plot::\n",
      "               :context: close-figs\n",
      "    \n",
      "               Let's repeat the same example, but specifying colors for\n",
      "               each column (in this case, for each animal).\n",
      "    \n",
      "               >>> axes = df.plot.line(\n",
      "               ...     subplots=True, color={\"pig\": \"pink\", \"horse\": \"#742802\"}\n",
      "               ... )\n",
      "    \n",
      "            .. plot::\n",
      "                :context: close-figs\n",
      "    \n",
      "                The following example shows the relationship between both\n",
      "                populations.\n",
      "    \n",
      "                >>> lines = df.plot.line(x='pig', y='horse')\n",
      "\n"
     ]
    }
   ],
   "source": [
    "help(s.plot.line)"
   ]
  },
  {
   "cell_type": "code",
   "execution_count": 70,
   "metadata": {
    "collapsed": true
   },
   "outputs": [
    {
     "name": "stdout",
     "output_type": "stream",
     "text": [
      "Help on class PlotAccessor in module pandas.plotting._core:\n",
      "\n",
      "class PlotAccessor(pandas.core.base.PandasObject)\n",
      " |  PlotAccessor(data)\n",
      " |  \n",
      " |  Make plots of Series or DataFrame.\n",
      " |  \n",
      " |  Uses the backend specified by the\n",
      " |  option ``plotting.backend``. By default, matplotlib is used.\n",
      " |  \n",
      " |  Parameters\n",
      " |  ----------\n",
      " |  data : Series or DataFrame\n",
      " |      The object for which the method is called.\n",
      " |  x : label or position, default None\n",
      " |      Only used if data is a DataFrame.\n",
      " |  y : label, position or list of label, positions, default None\n",
      " |      Allows plotting of one column versus another. Only used if data is a\n",
      " |      DataFrame.\n",
      " |  kind : str\n",
      " |      The kind of plot to produce:\n",
      " |  \n",
      " |      - 'line' : line plot (default)\n",
      " |      - 'bar' : vertical bar plot\n",
      " |      - 'barh' : horizontal bar plot\n",
      " |      - 'hist' : histogram\n",
      " |      - 'box' : boxplot\n",
      " |      - 'kde' : Kernel Density Estimation plot\n",
      " |      - 'density' : same as 'kde'\n",
      " |      - 'area' : area plot\n",
      " |      - 'pie' : pie plot\n",
      " |      - 'scatter' : scatter plot\n",
      " |      - 'hexbin' : hexbin plot.\n",
      " |  ax : matplotlib axes object, default None\n",
      " |      An axes of the current figure.\n",
      " |  subplots : bool, default False\n",
      " |      Make separate subplots for each column.\n",
      " |  sharex : bool, default True if ax is None else False\n",
      " |      In case ``subplots=True``, share x axis and set some x axis labels\n",
      " |      to invisible; defaults to True if ax is None otherwise False if\n",
      " |      an ax is passed in; Be aware, that passing in both an ax and\n",
      " |      ``sharex=True`` will alter all x axis labels for all axis in a figure.\n",
      " |  sharey : bool, default False\n",
      " |      In case ``subplots=True``, share y axis and set some y axis labels to invisible.\n",
      " |  layout : tuple, optional\n",
      " |      (rows, columns) for the layout of subplots.\n",
      " |  figsize : a tuple (width, height) in inches\n",
      " |      Size of a figure object.\n",
      " |  use_index : bool, default True\n",
      " |      Use index as ticks for x axis.\n",
      " |  title : str or list\n",
      " |      Title to use for the plot. If a string is passed, print the string\n",
      " |      at the top of the figure. If a list is passed and `subplots` is\n",
      " |      True, print each item in the list above the corresponding subplot.\n",
      " |  grid : bool, default None (matlab style default)\n",
      " |      Axis grid lines.\n",
      " |  legend : bool or {'reverse'}\n",
      " |      Place legend on axis subplots.\n",
      " |  style : list or dict\n",
      " |      The matplotlib line style per column.\n",
      " |  logx : bool or 'sym', default False\n",
      " |      Use log scaling or symlog scaling on x axis.\n",
      " |      .. versionchanged:: 0.25.0\n",
      " |  \n",
      " |  logy : bool or 'sym' default False\n",
      " |      Use log scaling or symlog scaling on y axis.\n",
      " |      .. versionchanged:: 0.25.0\n",
      " |  \n",
      " |  loglog : bool or 'sym', default False\n",
      " |      Use log scaling or symlog scaling on both x and y axes.\n",
      " |      .. versionchanged:: 0.25.0\n",
      " |  \n",
      " |  xticks : sequence\n",
      " |      Values to use for the xticks.\n",
      " |  yticks : sequence\n",
      " |      Values to use for the yticks.\n",
      " |  xlim : 2-tuple/list\n",
      " |      Set the x limits of the current axes.\n",
      " |  ylim : 2-tuple/list\n",
      " |      Set the y limits of the current axes.\n",
      " |  xlabel : label, optional\n",
      " |      Name to use for the xlabel on x-axis. Default uses index name as xlabel.\n",
      " |  \n",
      " |      .. versionadded:: 1.1.0\n",
      " |  \n",
      " |  ylabel : label, optional\n",
      " |      Name to use for the ylabel on y-axis. Default will show no ylabel.\n",
      " |  \n",
      " |      .. versionadded:: 1.1.0\n",
      " |  \n",
      " |  rot : int, default None\n",
      " |      Rotation for ticks (xticks for vertical, yticks for horizontal\n",
      " |      plots).\n",
      " |  fontsize : int, default None\n",
      " |      Font size for xticks and yticks.\n",
      " |  colormap : str or matplotlib colormap object, default None\n",
      " |      Colormap to select colors from. If string, load colormap with that\n",
      " |      name from matplotlib.\n",
      " |  colorbar : bool, optional\n",
      " |      If True, plot colorbar (only relevant for 'scatter' and 'hexbin'\n",
      " |      plots).\n",
      " |  position : float\n",
      " |      Specify relative alignments for bar plot layout.\n",
      " |      From 0 (left/bottom-end) to 1 (right/top-end). Default is 0.5\n",
      " |      (center).\n",
      " |  table : bool, Series or DataFrame, default False\n",
      " |      If True, draw a table using the data in the DataFrame and the data\n",
      " |      will be transposed to meet matplotlib's default layout.\n",
      " |      If a Series or DataFrame is passed, use passed data to draw a\n",
      " |      table.\n",
      " |  yerr : DataFrame, Series, array-like, dict and str\n",
      " |      See :ref:`Plotting with Error Bars <visualization.errorbars>` for\n",
      " |      detail.\n",
      " |  xerr : DataFrame, Series, array-like, dict and str\n",
      " |      Equivalent to yerr.\n",
      " |  stacked : bool, default False in line and bar plots, and True in area plot\n",
      " |      If True, create stacked plot.\n",
      " |  sort_columns : bool, default False\n",
      " |      Sort column names to determine plot ordering.\n",
      " |  secondary_y : bool or sequence, default False\n",
      " |      Whether to plot on the secondary y-axis if a list/tuple, which\n",
      " |      columns to plot on secondary y-axis.\n",
      " |  mark_right : bool, default True\n",
      " |      When using a secondary_y axis, automatically mark the column\n",
      " |      labels with \"(right)\" in the legend.\n",
      " |  include_bool : bool, default is False\n",
      " |      If True, boolean values can be plotted.\n",
      " |  backend : str, default None\n",
      " |      Backend to use instead of the backend specified in the option\n",
      " |      ``plotting.backend``. For instance, 'matplotlib'. Alternatively, to\n",
      " |      specify the ``plotting.backend`` for the whole session, set\n",
      " |      ``pd.options.plotting.backend``.\n",
      " |  \n",
      " |      .. versionadded:: 1.0.0\n",
      " |  \n",
      " |  **kwargs\n",
      " |      Options to pass to matplotlib plotting method.\n",
      " |  \n",
      " |  Returns\n",
      " |  -------\n",
      " |  :class:`matplotlib.axes.Axes` or numpy.ndarray of them\n",
      " |      If the backend is not the default matplotlib one, the return value\n",
      " |      will be the object returned by the backend.\n",
      " |  \n",
      " |  Notes\n",
      " |  -----\n",
      " |  - See matplotlib documentation online for more on this subject\n",
      " |  - If `kind` = 'bar' or 'barh', you can specify relative alignments\n",
      " |    for bar plot layout by `position` keyword.\n",
      " |    From 0 (left/bottom-end) to 1 (right/top-end). Default is 0.5\n",
      " |    (center)\n",
      " |  \n",
      " |  Method resolution order:\n",
      " |      PlotAccessor\n",
      " |      pandas.core.base.PandasObject\n",
      " |      pandas.core.accessor.DirNamesMixin\n",
      " |      builtins.object\n",
      " |  \n",
      " |  Methods defined here:\n",
      " |  \n",
      " |  __call__(self, *args, **kwargs)\n",
      " |      Make plots of Series or DataFrame.\n",
      " |      \n",
      " |      Uses the backend specified by the\n",
      " |      option ``plotting.backend``. By default, matplotlib is used.\n",
      " |      \n",
      " |      Parameters\n",
      " |      ----------\n",
      " |      data : Series or DataFrame\n",
      " |          The object for which the method is called.\n",
      " |      x : label or position, default None\n",
      " |          Only used if data is a DataFrame.\n",
      " |      y : label, position or list of label, positions, default None\n",
      " |          Allows plotting of one column versus another. Only used if data is a\n",
      " |          DataFrame.\n",
      " |      kind : str\n",
      " |          The kind of plot to produce:\n",
      " |      \n",
      " |          - 'line' : line plot (default)\n",
      " |          - 'bar' : vertical bar plot\n",
      " |          - 'barh' : horizontal bar plot\n",
      " |          - 'hist' : histogram\n",
      " |          - 'box' : boxplot\n",
      " |          - 'kde' : Kernel Density Estimation plot\n",
      " |          - 'density' : same as 'kde'\n",
      " |          - 'area' : area plot\n",
      " |          - 'pie' : pie plot\n",
      " |          - 'scatter' : scatter plot\n",
      " |          - 'hexbin' : hexbin plot.\n",
      " |      ax : matplotlib axes object, default None\n",
      " |          An axes of the current figure.\n",
      " |      subplots : bool, default False\n",
      " |          Make separate subplots for each column.\n",
      " |      sharex : bool, default True if ax is None else False\n",
      " |          In case ``subplots=True``, share x axis and set some x axis labels\n",
      " |          to invisible; defaults to True if ax is None otherwise False if\n",
      " |          an ax is passed in; Be aware, that passing in both an ax and\n",
      " |          ``sharex=True`` will alter all x axis labels for all axis in a figure.\n",
      " |      sharey : bool, default False\n",
      " |          In case ``subplots=True``, share y axis and set some y axis labels to invisible.\n",
      " |      layout : tuple, optional\n",
      " |          (rows, columns) for the layout of subplots.\n",
      " |      figsize : a tuple (width, height) in inches\n",
      " |          Size of a figure object.\n",
      " |      use_index : bool, default True\n",
      " |          Use index as ticks for x axis.\n",
      " |      title : str or list\n",
      " |          Title to use for the plot. If a string is passed, print the string\n",
      " |          at the top of the figure. If a list is passed and `subplots` is\n",
      " |          True, print each item in the list above the corresponding subplot.\n",
      " |      grid : bool, default None (matlab style default)\n",
      " |          Axis grid lines.\n",
      " |      legend : bool or {'reverse'}\n",
      " |          Place legend on axis subplots.\n",
      " |      style : list or dict\n",
      " |          The matplotlib line style per column.\n",
      " |      logx : bool or 'sym', default False\n",
      " |          Use log scaling or symlog scaling on x axis.\n",
      " |          .. versionchanged:: 0.25.0\n",
      " |      \n",
      " |      logy : bool or 'sym' default False\n",
      " |          Use log scaling or symlog scaling on y axis.\n",
      " |          .. versionchanged:: 0.25.0\n",
      " |      \n",
      " |      loglog : bool or 'sym', default False\n",
      " |          Use log scaling or symlog scaling on both x and y axes.\n",
      " |          .. versionchanged:: 0.25.0\n",
      " |      \n",
      " |      xticks : sequence\n",
      " |          Values to use for the xticks.\n",
      " |      yticks : sequence\n",
      " |          Values to use for the yticks.\n",
      " |      xlim : 2-tuple/list\n",
      " |          Set the x limits of the current axes.\n",
      " |      ylim : 2-tuple/list\n",
      " |          Set the y limits of the current axes.\n",
      " |      xlabel : label, optional\n",
      " |          Name to use for the xlabel on x-axis. Default uses index name as xlabel.\n",
      " |      \n",
      " |          .. versionadded:: 1.1.0\n",
      " |      \n",
      " |      ylabel : label, optional\n",
      " |          Name to use for the ylabel on y-axis. Default will show no ylabel.\n",
      " |      \n",
      " |          .. versionadded:: 1.1.0\n",
      " |      \n",
      " |      rot : int, default None\n",
      " |          Rotation for ticks (xticks for vertical, yticks for horizontal\n",
      " |          plots).\n",
      " |      fontsize : int, default None\n",
      " |          Font size for xticks and yticks.\n",
      " |      colormap : str or matplotlib colormap object, default None\n",
      " |          Colormap to select colors from. If string, load colormap with that\n",
      " |          name from matplotlib.\n",
      " |      colorbar : bool, optional\n",
      " |          If True, plot colorbar (only relevant for 'scatter' and 'hexbin'\n",
      " |          plots).\n",
      " |      position : float\n",
      " |          Specify relative alignments for bar plot layout.\n",
      " |          From 0 (left/bottom-end) to 1 (right/top-end). Default is 0.5\n",
      " |          (center).\n",
      " |      table : bool, Series or DataFrame, default False\n",
      " |          If True, draw a table using the data in the DataFrame and the data\n",
      " |          will be transposed to meet matplotlib's default layout.\n",
      " |          If a Series or DataFrame is passed, use passed data to draw a\n",
      " |          table.\n",
      " |      yerr : DataFrame, Series, array-like, dict and str\n",
      " |          See :ref:`Plotting with Error Bars <visualization.errorbars>` for\n",
      " |          detail.\n",
      " |      xerr : DataFrame, Series, array-like, dict and str\n",
      " |          Equivalent to yerr.\n",
      " |      stacked : bool, default False in line and bar plots, and True in area plot\n",
      " |          If True, create stacked plot.\n",
      " |      sort_columns : bool, default False\n",
      " |          Sort column names to determine plot ordering.\n",
      " |      secondary_y : bool or sequence, default False\n",
      " |          Whether to plot on the secondary y-axis if a list/tuple, which\n",
      " |          columns to plot on secondary y-axis.\n",
      " |      mark_right : bool, default True\n",
      " |          When using a secondary_y axis, automatically mark the column\n",
      " |          labels with \"(right)\" in the legend.\n",
      " |      include_bool : bool, default is False\n",
      " |          If True, boolean values can be plotted.\n",
      " |      backend : str, default None\n",
      " |          Backend to use instead of the backend specified in the option\n",
      " |          ``plotting.backend``. For instance, 'matplotlib'. Alternatively, to\n",
      " |          specify the ``plotting.backend`` for the whole session, set\n",
      " |          ``pd.options.plotting.backend``.\n",
      " |      \n",
      " |          .. versionadded:: 1.0.0\n",
      " |      \n",
      " |      **kwargs\n",
      " |          Options to pass to matplotlib plotting method.\n",
      " |      \n",
      " |      Returns\n",
      " |      -------\n",
      " |      :class:`matplotlib.axes.Axes` or numpy.ndarray of them\n",
      " |          If the backend is not the default matplotlib one, the return value\n",
      " |          will be the object returned by the backend.\n",
      " |      \n",
      " |      Notes\n",
      " |      -----\n",
      " |      - See matplotlib documentation online for more on this subject\n",
      " |      - If `kind` = 'bar' or 'barh', you can specify relative alignments\n",
      " |        for bar plot layout by `position` keyword.\n",
      " |        From 0 (left/bottom-end) to 1 (right/top-end). Default is 0.5\n",
      " |        (center)\n",
      " |  \n",
      " |  __init__(self, data)\n",
      " |      Initialize self.  See help(type(self)) for accurate signature.\n",
      " |  \n",
      " |  area(self, x=None, y=None, **kwargs)\n",
      " |      Draw a stacked area plot.\n",
      " |      \n",
      " |      An area plot displays quantitative data visually.\n",
      " |      This function wraps the matplotlib area function.\n",
      " |      \n",
      " |      Parameters\n",
      " |      ----------\n",
      " |      x : label or position, optional\n",
      " |          Coordinates for the X axis. By default uses the index.\n",
      " |      y : label or position, optional\n",
      " |          Column to plot. By default uses all columns.\n",
      " |      stacked : bool, default True\n",
      " |          Area plots are stacked by default. Set to False to create a\n",
      " |          unstacked plot.\n",
      " |      **kwargs\n",
      " |          Additional keyword arguments are documented in\n",
      " |          :meth:`DataFrame.plot`.\n",
      " |      \n",
      " |      Returns\n",
      " |      -------\n",
      " |      matplotlib.axes.Axes or numpy.ndarray\n",
      " |          Area plot, or array of area plots if subplots is True.\n",
      " |      \n",
      " |      See Also\n",
      " |      --------\n",
      " |      DataFrame.plot : Make plots of DataFrame using matplotlib / pylab.\n",
      " |      \n",
      " |      Examples\n",
      " |      --------\n",
      " |      Draw an area plot based on basic business metrics:\n",
      " |      \n",
      " |      .. plot::\n",
      " |          :context: close-figs\n",
      " |      \n",
      " |          >>> df = pd.DataFrame({\n",
      " |          ...     'sales': [3, 2, 3, 9, 10, 6],\n",
      " |          ...     'signups': [5, 5, 6, 12, 14, 13],\n",
      " |          ...     'visits': [20, 42, 28, 62, 81, 50],\n",
      " |          ... }, index=pd.date_range(start='2018/01/01', end='2018/07/01',\n",
      " |          ...                        freq='M'))\n",
      " |          >>> ax = df.plot.area()\n",
      " |      \n",
      " |      Area plots are stacked by default. To produce an unstacked plot,\n",
      " |      pass ``stacked=False``:\n",
      " |      \n",
      " |      .. plot::\n",
      " |          :context: close-figs\n",
      " |      \n",
      " |          >>> ax = df.plot.area(stacked=False)\n",
      " |      \n",
      " |      Draw an area plot for a single column:\n",
      " |      \n",
      " |      .. plot::\n",
      " |          :context: close-figs\n",
      " |      \n",
      " |          >>> ax = df.plot.area(y='sales')\n",
      " |      \n",
      " |      Draw with a different `x`:\n",
      " |      \n",
      " |      .. plot::\n",
      " |          :context: close-figs\n",
      " |      \n",
      " |          >>> df = pd.DataFrame({\n",
      " |          ...     'sales': [3, 2, 3],\n",
      " |          ...     'visits': [20, 42, 28],\n",
      " |          ...     'day': [1, 2, 3],\n",
      " |          ... })\n",
      " |          >>> ax = df.plot.area(x='day')\n",
      " |  \n",
      " |  bar(self, x=None, y=None, **kwargs)\n",
      " |      Vertical bar plot.\n",
      " |      \n",
      " |      A bar plot is a plot that presents categorical data with\n",
      " |      rectangular bars with lengths proportional to the values that they\n",
      " |      represent. A bar plot shows comparisons among discrete categories. One\n",
      " |      axis of the plot shows the specific categories being compared, and the\n",
      " |      other axis represents a measured value.\n",
      " |      \n",
      " |      Parameters\n",
      " |      ----------\n",
      " |      x : label or position, optional\n",
      " |          Allows plotting of one column versus another. If not specified,\n",
      " |          the index of the DataFrame is used.\n",
      " |      y : label or position, optional\n",
      " |          Allows plotting of one column versus another. If not specified,\n",
      " |          all numerical columns are used.\n",
      " |      color : str, array_like, or dict, optional\n",
      " |          The color for each of the DataFrame's columns. Possible values are:\n",
      " |      \n",
      " |          - A single color string referred to by name, RGB or RGBA code,\n",
      " |              for instance 'red' or '#a98d19'.\n",
      " |      \n",
      " |          - A sequence of color strings referred to by name, RGB or RGBA\n",
      " |              code, which will be used for each column recursively. For\n",
      " |              instance ['green','yellow'] each column's bar will be filled in\n",
      " |              green or yellow, alternatively.\n",
      " |      \n",
      " |          - A dict of the form {column name : color}, so that each column will be\n",
      " |              colored accordingly. For example, if your columns are called `a` and\n",
      " |              `b`, then passing {'a': 'green', 'b': 'red'} will color bars for\n",
      " |              column `a` in green and bars for column `b` in red.\n",
      " |      \n",
      " |          .. versionadded:: 1.1.0\n",
      " |      \n",
      " |      **kwargs\n",
      " |          Additional keyword arguments are documented in\n",
      " |          :meth:`DataFrame.plot`.\n",
      " |      \n",
      " |      Returns\n",
      " |      -------\n",
      " |      matplotlib.axes.Axes or np.ndarray of them\n",
      " |          An ndarray is returned with one :class:`matplotlib.axes.Axes`\n",
      " |          per column when ``subplots=True``.\n",
      " |      \n",
      " |              See Also\n",
      " |              --------\n",
      " |              DataFrame.plot.barh : Horizontal bar plot.\n",
      " |              DataFrame.plot : Make plots of a DataFrame.\n",
      " |              matplotlib.pyplot.bar : Make a bar plot with matplotlib.\n",
      " |      \n",
      " |              Examples\n",
      " |              --------\n",
      " |              Basic plot.\n",
      " |      \n",
      " |              .. plot::\n",
      " |                  :context: close-figs\n",
      " |      \n",
      " |                  >>> df = pd.DataFrame({'lab':['A', 'B', 'C'], 'val':[10, 30, 20]})\n",
      " |                  >>> ax = df.plot.bar(x='lab', y='val', rot=0)\n",
      " |      \n",
      " |              Plot a whole dataframe to a bar plot. Each column is assigned a\n",
      " |              distinct color, and each row is nested in a group along the\n",
      " |              horizontal axis.\n",
      " |      \n",
      " |              .. plot::\n",
      " |                  :context: close-figs\n",
      " |      \n",
      " |                  >>> speed = [0.1, 17.5, 40, 48, 52, 69, 88]\n",
      " |                  >>> lifespan = [2, 8, 70, 1.5, 25, 12, 28]\n",
      " |                  >>> index = ['snail', 'pig', 'elephant',\n",
      " |                  ...          'rabbit', 'giraffe', 'coyote', 'horse']\n",
      " |                  >>> df = pd.DataFrame({'speed': speed,\n",
      " |                  ...                    'lifespan': lifespan}, index=index)\n",
      " |                  >>> ax = df.plot.bar(rot=0)\n",
      " |      \n",
      " |              Plot stacked bar charts for the DataFrame\n",
      " |      \n",
      " |              .. plot::\n",
      " |                  :context: close-figs\n",
      " |      \n",
      " |                  >>> ax = df.plot.bar(stacked=True)\n",
      " |      \n",
      " |              Instead of nesting, the figure can be split by column with\n",
      " |              ``subplots=True``. In this case, a :class:`numpy.ndarray` of\n",
      " |              :class:`matplotlib.axes.Axes` are returned.\n",
      " |      \n",
      " |              .. plot::\n",
      " |                  :context: close-figs\n",
      " |      \n",
      " |                  >>> axes = df.plot.bar(rot=0, subplots=True)\n",
      " |                  >>> axes[1].legend(loc=2)  # doctest: +SKIP\n",
      " |      \n",
      " |              If you don't like the default colours, you can specify how you'd\n",
      " |              like each column to be colored.\n",
      " |      \n",
      " |              .. plot::\n",
      " |                  :context: close-figs\n",
      " |      \n",
      " |                  >>> axes = df.plot.bar(\n",
      " |                  ...     rot=0, subplots=True, color={\"speed\": \"red\", \"lifespan\": \"green\"}\n",
      " |                  ... )\n",
      " |                  >>> axes[1].legend(loc=2)  # doctest: +SKIP\n",
      " |      \n",
      " |              Plot a single column.\n",
      " |      \n",
      " |              .. plot::\n",
      " |                  :context: close-figs\n",
      " |      \n",
      " |                  >>> ax = df.plot.bar(y='speed', rot=0)\n",
      " |      \n",
      " |              Plot only selected categories for the DataFrame.\n",
      " |      \n",
      " |              .. plot::\n",
      " |                  :context: close-figs\n",
      " |      \n",
      " |                  >>> ax = df.plot.bar(x='lifespan', rot=0)\n",
      " |  \n",
      " |  barh(self, x=None, y=None, **kwargs)\n",
      " |      Make a horizontal bar plot.\n",
      " |      \n",
      " |      A horizontal bar plot is a plot that presents quantitative data with\n",
      " |      rectangular bars with lengths proportional to the values that they\n",
      " |      represent. A bar plot shows comparisons among discrete categories. One\n",
      " |      axis of the plot shows the specific categories being compared, and the\n",
      " |      other axis represents a measured value.\n",
      " |      \n",
      " |      Parameters\n",
      " |      ----------\n",
      " |      x : label or position, optional\n",
      " |          Allows plotting of one column versus another. If not specified,\n",
      " |          the index of the DataFrame is used.\n",
      " |      y : label or position, optional\n",
      " |          Allows plotting of one column versus another. If not specified,\n",
      " |          all numerical columns are used.\n",
      " |      color : str, array_like, or dict, optional\n",
      " |          The color for each of the DataFrame's columns. Possible values are:\n",
      " |      \n",
      " |          - A single color string referred to by name, RGB or RGBA code,\n",
      " |              for instance 'red' or '#a98d19'.\n",
      " |      \n",
      " |          - A sequence of color strings referred to by name, RGB or RGBA\n",
      " |              code, which will be used for each column recursively. For\n",
      " |              instance ['green','yellow'] each column's bar will be filled in\n",
      " |              green or yellow, alternatively.\n",
      " |      \n",
      " |          - A dict of the form {column name : color}, so that each column will be\n",
      " |              colored accordingly. For example, if your columns are called `a` and\n",
      " |              `b`, then passing {'a': 'green', 'b': 'red'} will color bars for\n",
      " |              column `a` in green and bars for column `b` in red.\n",
      " |      \n",
      " |          .. versionadded:: 1.1.0\n",
      " |      \n",
      " |      **kwargs\n",
      " |          Additional keyword arguments are documented in\n",
      " |          :meth:`DataFrame.plot`.\n",
      " |      \n",
      " |      Returns\n",
      " |      -------\n",
      " |      matplotlib.axes.Axes or np.ndarray of them\n",
      " |          An ndarray is returned with one :class:`matplotlib.axes.Axes`\n",
      " |          per column when ``subplots=True``.\n",
      " |      \n",
      " |              See Also\n",
      " |              --------\n",
      " |              DataFrame.plot.bar: Vertical bar plot.\n",
      " |              DataFrame.plot : Make plots of DataFrame using matplotlib.\n",
      " |              matplotlib.axes.Axes.bar : Plot a vertical bar plot using matplotlib.\n",
      " |      \n",
      " |              Examples\n",
      " |              --------\n",
      " |              Basic example\n",
      " |      \n",
      " |              .. plot::\n",
      " |                  :context: close-figs\n",
      " |      \n",
      " |                  >>> df = pd.DataFrame({'lab': ['A', 'B', 'C'], 'val': [10, 30, 20]})\n",
      " |                  >>> ax = df.plot.barh(x='lab', y='val')\n",
      " |      \n",
      " |              Plot a whole DataFrame to a horizontal bar plot\n",
      " |      \n",
      " |              .. plot::\n",
      " |                  :context: close-figs\n",
      " |      \n",
      " |                  >>> speed = [0.1, 17.5, 40, 48, 52, 69, 88]\n",
      " |                  >>> lifespan = [2, 8, 70, 1.5, 25, 12, 28]\n",
      " |                  >>> index = ['snail', 'pig', 'elephant',\n",
      " |                  ...          'rabbit', 'giraffe', 'coyote', 'horse']\n",
      " |                  >>> df = pd.DataFrame({'speed': speed,\n",
      " |                  ...                    'lifespan': lifespan}, index=index)\n",
      " |                  >>> ax = df.plot.barh()\n",
      " |      \n",
      " |              Plot stacked barh charts for the DataFrame\n",
      " |      \n",
      " |              .. plot::\n",
      " |                  :context: close-figs\n",
      " |      \n",
      " |                  >>> ax = df.plot.barh(stacked=True)\n",
      " |      \n",
      " |              We can specify colors for each column\n",
      " |      \n",
      " |              .. plot::\n",
      " |                  :context: close-figs\n",
      " |      \n",
      " |                  >>> ax = df.plot.barh(color={\"speed\": \"red\", \"lifespan\": \"green\"})\n",
      " |      \n",
      " |              Plot a column of the DataFrame to a horizontal bar plot\n",
      " |      \n",
      " |              .. plot::\n",
      " |                  :context: close-figs\n",
      " |      \n",
      " |                  >>> speed = [0.1, 17.5, 40, 48, 52, 69, 88]\n",
      " |                  >>> lifespan = [2, 8, 70, 1.5, 25, 12, 28]\n",
      " |                  >>> index = ['snail', 'pig', 'elephant',\n",
      " |                  ...          'rabbit', 'giraffe', 'coyote', 'horse']\n",
      " |                  >>> df = pd.DataFrame({'speed': speed,\n",
      " |                  ...                    'lifespan': lifespan}, index=index)\n",
      " |                  >>> ax = df.plot.barh(y='speed')\n",
      " |      \n",
      " |              Plot DataFrame versus the desired column\n",
      " |      \n",
      " |              .. plot::\n",
      " |                  :context: close-figs\n",
      " |      \n",
      " |                  >>> speed = [0.1, 17.5, 40, 48, 52, 69, 88]\n",
      " |                  >>> lifespan = [2, 8, 70, 1.5, 25, 12, 28]\n",
      " |                  >>> index = ['snail', 'pig', 'elephant',\n",
      " |                  ...          'rabbit', 'giraffe', 'coyote', 'horse']\n",
      " |                  >>> df = pd.DataFrame({'speed': speed,\n",
      " |                  ...                    'lifespan': lifespan}, index=index)\n",
      " |                  >>> ax = df.plot.barh(x='lifespan')\n",
      " |  \n",
      " |  box(self, by=None, **kwargs)\n",
      " |      Make a box plot of the DataFrame columns.\n",
      " |      \n",
      " |      A box plot is a method for graphically depicting groups of numerical\n",
      " |      data through their quartiles.\n",
      " |      The box extends from the Q1 to Q3 quartile values of the data,\n",
      " |      with a line at the median (Q2). The whiskers extend from the edges\n",
      " |      of box to show the range of the data. The position of the whiskers\n",
      " |      is set by default to 1.5*IQR (IQR = Q3 - Q1) from the edges of the\n",
      " |      box. Outlier points are those past the end of the whiskers.\n",
      " |      \n",
      " |      For further details see Wikipedia's\n",
      " |      entry for `boxplot <https://en.wikipedia.org/wiki/Box_plot>`__.\n",
      " |      \n",
      " |      A consideration when using this chart is that the box and the whiskers\n",
      " |      can overlap, which is very common when plotting small sets of data.\n",
      " |      \n",
      " |      Parameters\n",
      " |      ----------\n",
      " |      by : str or sequence\n",
      " |          Column in the DataFrame to group by.\n",
      " |      **kwargs\n",
      " |          Additional keywords are documented in\n",
      " |          :meth:`DataFrame.plot`.\n",
      " |      \n",
      " |      Returns\n",
      " |      -------\n",
      " |      :class:`matplotlib.axes.Axes` or numpy.ndarray of them\n",
      " |      \n",
      " |      See Also\n",
      " |      --------\n",
      " |      DataFrame.boxplot: Another method to draw a box plot.\n",
      " |      Series.plot.box: Draw a box plot from a Series object.\n",
      " |      matplotlib.pyplot.boxplot: Draw a box plot in matplotlib.\n",
      " |      \n",
      " |      Examples\n",
      " |      --------\n",
      " |      Draw a box plot from a DataFrame with four columns of randomly\n",
      " |      generated data.\n",
      " |      \n",
      " |      .. plot::\n",
      " |          :context: close-figs\n",
      " |      \n",
      " |          >>> data = np.random.randn(25, 4)\n",
      " |          >>> df = pd.DataFrame(data, columns=list('ABCD'))\n",
      " |          >>> ax = df.plot.box()\n",
      " |  \n",
      " |  density = kde(self, bw_method=None, ind=None, **kwargs)\n",
      " |  \n",
      " |  hexbin(self, x, y, C=None, reduce_C_function=None, gridsize=None, **kwargs)\n",
      " |      Generate a hexagonal binning plot.\n",
      " |      \n",
      " |      Generate a hexagonal binning plot of `x` versus `y`. If `C` is `None`\n",
      " |      (the default), this is a histogram of the number of occurrences\n",
      " |      of the observations at ``(x[i], y[i])``.\n",
      " |      \n",
      " |      If `C` is specified, specifies values at given coordinates\n",
      " |      ``(x[i], y[i])``. These values are accumulated for each hexagonal\n",
      " |      bin and then reduced according to `reduce_C_function`,\n",
      " |      having as default the NumPy's mean function (:meth:`numpy.mean`).\n",
      " |      (If `C` is specified, it must also be a 1-D sequence\n",
      " |      of the same length as `x` and `y`, or a column label.)\n",
      " |      \n",
      " |      Parameters\n",
      " |      ----------\n",
      " |      x : int or str\n",
      " |          The column label or position for x points.\n",
      " |      y : int or str\n",
      " |          The column label or position for y points.\n",
      " |      C : int or str, optional\n",
      " |          The column label or position for the value of `(x, y)` point.\n",
      " |      reduce_C_function : callable, default `np.mean`\n",
      " |          Function of one argument that reduces all the values in a bin to\n",
      " |          a single number (e.g. `np.mean`, `np.max`, `np.sum`, `np.std`).\n",
      " |      gridsize : int or tuple of (int, int), default 100\n",
      " |          The number of hexagons in the x-direction.\n",
      " |          The corresponding number of hexagons in the y-direction is\n",
      " |          chosen in a way that the hexagons are approximately regular.\n",
      " |          Alternatively, gridsize can be a tuple with two elements\n",
      " |          specifying the number of hexagons in the x-direction and the\n",
      " |          y-direction.\n",
      " |      **kwargs\n",
      " |          Additional keyword arguments are documented in\n",
      " |          :meth:`DataFrame.plot`.\n",
      " |      \n",
      " |      Returns\n",
      " |      -------\n",
      " |      matplotlib.AxesSubplot\n",
      " |          The matplotlib ``Axes`` on which the hexbin is plotted.\n",
      " |      \n",
      " |      See Also\n",
      " |      --------\n",
      " |      DataFrame.plot : Make plots of a DataFrame.\n",
      " |      matplotlib.pyplot.hexbin : Hexagonal binning plot using matplotlib,\n",
      " |          the matplotlib function that is used under the hood.\n",
      " |      \n",
      " |      Examples\n",
      " |      --------\n",
      " |      The following examples are generated with random data from\n",
      " |      a normal distribution.\n",
      " |      \n",
      " |      .. plot::\n",
      " |          :context: close-figs\n",
      " |      \n",
      " |          >>> n = 10000\n",
      " |          >>> df = pd.DataFrame({'x': np.random.randn(n),\n",
      " |          ...                    'y': np.random.randn(n)})\n",
      " |          >>> ax = df.plot.hexbin(x='x', y='y', gridsize=20)\n",
      " |      \n",
      " |      The next example uses `C` and `np.sum` as `reduce_C_function`.\n",
      " |      Note that `'observations'` values ranges from 1 to 5 but the result\n",
      " |      plot shows values up to more than 25. This is because of the\n",
      " |      `reduce_C_function`.\n",
      " |      \n",
      " |      .. plot::\n",
      " |          :context: close-figs\n",
      " |      \n",
      " |          >>> n = 500\n",
      " |          >>> df = pd.DataFrame({\n",
      " |          ...     'coord_x': np.random.uniform(-3, 3, size=n),\n",
      " |          ...     'coord_y': np.random.uniform(30, 50, size=n),\n",
      " |          ...     'observations': np.random.randint(1,5, size=n)\n",
      " |          ...     })\n",
      " |          >>> ax = df.plot.hexbin(x='coord_x',\n",
      " |          ...                     y='coord_y',\n",
      " |          ...                     C='observations',\n",
      " |          ...                     reduce_C_function=np.sum,\n",
      " |          ...                     gridsize=10,\n",
      " |          ...                     cmap=\"viridis\")\n",
      " |  \n",
      " |  hist(self, by=None, bins=10, **kwargs)\n",
      " |      Draw one histogram of the DataFrame's columns.\n",
      " |      \n",
      " |      A histogram is a representation of the distribution of data.\n",
      " |      This function groups the values of all given Series in the DataFrame\n",
      " |      into bins and draws all bins in one :class:`matplotlib.axes.Axes`.\n",
      " |      This is useful when the DataFrame's Series are in a similar scale.\n",
      " |      \n",
      " |      Parameters\n",
      " |      ----------\n",
      " |      by : str or sequence, optional\n",
      " |          Column in the DataFrame to group by.\n",
      " |      bins : int, default 10\n",
      " |          Number of histogram bins to be used.\n",
      " |      **kwargs\n",
      " |          Additional keyword arguments are documented in\n",
      " |          :meth:`DataFrame.plot`.\n",
      " |      \n",
      " |      Returns\n",
      " |      -------\n",
      " |      class:`matplotlib.AxesSubplot`\n",
      " |          Return a histogram plot.\n",
      " |      \n",
      " |      See Also\n",
      " |      --------\n",
      " |      DataFrame.hist : Draw histograms per DataFrame's Series.\n",
      " |      Series.hist : Draw a histogram with Series' data.\n",
      " |      \n",
      " |      Examples\n",
      " |      --------\n",
      " |      When we draw a dice 6000 times, we expect to get each value around 1000\n",
      " |      times. But when we draw two dices and sum the result, the distribution\n",
      " |      is going to be quite different. A histogram illustrates those\n",
      " |      distributions.\n",
      " |      \n",
      " |      .. plot::\n",
      " |          :context: close-figs\n",
      " |      \n",
      " |          >>> df = pd.DataFrame(\n",
      " |          ...     np.random.randint(1, 7, 6000),\n",
      " |          ...     columns = ['one'])\n",
      " |          >>> df['two'] = df['one'] + np.random.randint(1, 7, 6000)\n",
      " |          >>> ax = df.plot.hist(bins=12, alpha=0.5)\n",
      " |  \n",
      " |  kde(self, bw_method=None, ind=None, **kwargs)\n",
      " |      Generate Kernel Density Estimate plot using Gaussian kernels.\n",
      " |      \n",
      " |      In statistics, `kernel density estimation`_ (KDE) is a non-parametric\n",
      " |      way to estimate the probability density function (PDF) of a random\n",
      " |      variable. This function uses Gaussian kernels and includes automatic\n",
      " |      bandwidth determination.\n",
      " |      \n",
      " |      .. _kernel density estimation:\n",
      " |          https://en.wikipedia.org/wiki/Kernel_density_estimation\n",
      " |      \n",
      " |      Parameters\n",
      " |      ----------\n",
      " |      bw_method : str, scalar or callable, optional\n",
      " |          The method used to calculate the estimator bandwidth. This can be\n",
      " |          'scott', 'silverman', a scalar constant or a callable.\n",
      " |          If None (default), 'scott' is used.\n",
      " |          See :class:`scipy.stats.gaussian_kde` for more information.\n",
      " |      ind : NumPy array or int, optional\n",
      " |          Evaluation points for the estimated PDF. If None (default),\n",
      " |          1000 equally spaced points are used. If `ind` is a NumPy array, the\n",
      " |          KDE is evaluated at the points passed. If `ind` is an integer,\n",
      " |          `ind` number of equally spaced points are used.\n",
      " |      **kwargs\n",
      " |          Additional keyword arguments are documented in\n",
      " |          :meth:`pandas.%(this-datatype)s.plot`.\n",
      " |      \n",
      " |      Returns\n",
      " |      -------\n",
      " |      matplotlib.axes.Axes or numpy.ndarray of them\n",
      " |      \n",
      " |      See Also\n",
      " |      --------\n",
      " |      scipy.stats.gaussian_kde : Representation of a kernel-density\n",
      " |          estimate using Gaussian kernels. This is the function used\n",
      " |          internally to estimate the PDF.\n",
      " |      \n",
      " |      Examples\n",
      " |      --------\n",
      " |      Given a Series of points randomly sampled from an unknown\n",
      " |      distribution, estimate its PDF using KDE with automatic\n",
      " |      bandwidth determination and plot the results, evaluating them at\n",
      " |      1000 equally spaced points (default):\n",
      " |      \n",
      " |      .. plot::\n",
      " |          :context: close-figs\n",
      " |      \n",
      " |          >>> s = pd.Series([1, 2, 2.5, 3, 3.5, 4, 5])\n",
      " |          >>> ax = s.plot.kde()\n",
      " |      \n",
      " |      A scalar bandwidth can be specified. Using a small bandwidth value can\n",
      " |      lead to over-fitting, while using a large bandwidth value may result\n",
      " |      in under-fitting:\n",
      " |      \n",
      " |      .. plot::\n",
      " |          :context: close-figs\n",
      " |      \n",
      " |          >>> ax = s.plot.kde(bw_method=0.3)\n",
      " |      \n",
      " |      .. plot::\n",
      " |          :context: close-figs\n",
      " |      \n",
      " |          >>> ax = s.plot.kde(bw_method=3)\n",
      " |      \n",
      " |      Finally, the `ind` parameter determines the evaluation points for the\n",
      " |      plot of the estimated PDF:\n",
      " |      \n",
      " |      .. plot::\n",
      " |          :context: close-figs\n",
      " |      \n",
      " |          >>> ax = s.plot.kde(ind=[1, 2, 3, 4, 5])\n",
      " |      \n",
      " |      For DataFrame, it works in the same way:\n",
      " |      \n",
      " |      .. plot::\n",
      " |          :context: close-figs\n",
      " |      \n",
      " |          >>> df = pd.DataFrame({\n",
      " |          ...     'x': [1, 2, 2.5, 3, 3.5, 4, 5],\n",
      " |          ...     'y': [4, 4, 4.5, 5, 5.5, 6, 6],\n",
      " |          ... })\n",
      " |          >>> ax = df.plot.kde()\n",
      " |      \n",
      " |      A scalar bandwidth can be specified. Using a small bandwidth value can\n",
      " |      lead to over-fitting, while using a large bandwidth value may result\n",
      " |      in under-fitting:\n",
      " |      \n",
      " |      .. plot::\n",
      " |          :context: close-figs\n",
      " |      \n",
      " |          >>> ax = df.plot.kde(bw_method=0.3)\n",
      " |      \n",
      " |      .. plot::\n",
      " |          :context: close-figs\n",
      " |      \n",
      " |          >>> ax = df.plot.kde(bw_method=3)\n",
      " |      \n",
      " |      Finally, the `ind` parameter determines the evaluation points for the\n",
      " |      plot of the estimated PDF:\n",
      " |      \n",
      " |      .. plot::\n",
      " |          :context: close-figs\n",
      " |      \n",
      " |          >>> ax = df.plot.kde(ind=[1, 2, 3, 4, 5, 6])\n",
      " |  \n",
      " |  line(self, x=None, y=None, **kwargs)\n",
      " |      Plot Series or DataFrame as lines.\n",
      " |      \n",
      " |      This function is useful to plot lines using DataFrame's values\n",
      " |      as coordinates.\n",
      " |      \n",
      " |      Parameters\n",
      " |      ----------\n",
      " |      x : label or position, optional\n",
      " |          Allows plotting of one column versus another. If not specified,\n",
      " |          the index of the DataFrame is used.\n",
      " |      y : label or position, optional\n",
      " |          Allows plotting of one column versus another. If not specified,\n",
      " |          all numerical columns are used.\n",
      " |      color : str, array_like, or dict, optional\n",
      " |          The color for each of the DataFrame's columns. Possible values are:\n",
      " |      \n",
      " |          - A single color string referred to by name, RGB or RGBA code,\n",
      " |              for instance 'red' or '#a98d19'.\n",
      " |      \n",
      " |          - A sequence of color strings referred to by name, RGB or RGBA\n",
      " |              code, which will be used for each column recursively. For\n",
      " |              instance ['green','yellow'] each column's line will be filled in\n",
      " |              green or yellow, alternatively.\n",
      " |      \n",
      " |          - A dict of the form {column name : color}, so that each column will be\n",
      " |              colored accordingly. For example, if your columns are called `a` and\n",
      " |              `b`, then passing {'a': 'green', 'b': 'red'} will color lines for\n",
      " |              column `a` in green and lines for column `b` in red.\n",
      " |      \n",
      " |          .. versionadded:: 1.1.0\n",
      " |      \n",
      " |      **kwargs\n",
      " |          Additional keyword arguments are documented in\n",
      " |          :meth:`DataFrame.plot`.\n",
      " |      \n",
      " |      Returns\n",
      " |      -------\n",
      " |      matplotlib.axes.Axes or np.ndarray of them\n",
      " |          An ndarray is returned with one :class:`matplotlib.axes.Axes`\n",
      " |          per column when ``subplots=True``.\n",
      " |      \n",
      " |              See Also\n",
      " |              --------\n",
      " |              matplotlib.pyplot.plot : Plot y versus x as lines and/or markers.\n",
      " |      \n",
      " |              Examples\n",
      " |              --------\n",
      " |      \n",
      " |              .. plot::\n",
      " |                  :context: close-figs\n",
      " |      \n",
      " |                  >>> s = pd.Series([1, 3, 2])\n",
      " |                  >>> s.plot.line()\n",
      " |      \n",
      " |              .. plot::\n",
      " |                  :context: close-figs\n",
      " |      \n",
      " |                  The following example shows the populations for some animals\n",
      " |                  over the years.\n",
      " |      \n",
      " |                  >>> df = pd.DataFrame({\n",
      " |                  ...    'pig': [20, 18, 489, 675, 1776],\n",
      " |                  ...    'horse': [4, 25, 281, 600, 1900]\n",
      " |                  ...    }, index=[1990, 1997, 2003, 2009, 2014])\n",
      " |                  >>> lines = df.plot.line()\n",
      " |      \n",
      " |              .. plot::\n",
      " |                 :context: close-figs\n",
      " |      \n",
      " |                 An example with subplots, so an array of axes is returned.\n",
      " |      \n",
      " |                 >>> axes = df.plot.line(subplots=True)\n",
      " |                 >>> type(axes)\n",
      " |                 <class 'numpy.ndarray'>\n",
      " |      \n",
      " |              .. plot::\n",
      " |                 :context: close-figs\n",
      " |      \n",
      " |                 Let's repeat the same example, but specifying colors for\n",
      " |                 each column (in this case, for each animal).\n",
      " |      \n",
      " |                 >>> axes = df.plot.line(\n",
      " |                 ...     subplots=True, color={\"pig\": \"pink\", \"horse\": \"#742802\"}\n",
      " |                 ... )\n",
      " |      \n",
      " |              .. plot::\n",
      " |                  :context: close-figs\n",
      " |      \n",
      " |                  The following example shows the relationship between both\n",
      " |                  populations.\n",
      " |      \n",
      " |                  >>> lines = df.plot.line(x='pig', y='horse')\n",
      " |  \n",
      " |  pie(self, **kwargs)\n",
      " |      Generate a pie plot.\n",
      " |      \n",
      " |      A pie plot is a proportional representation of the numerical data in a\n",
      " |      column. This function wraps :meth:`matplotlib.pyplot.pie` for the\n",
      " |      specified column. If no column reference is passed and\n",
      " |      ``subplots=True`` a pie plot is drawn for each numerical column\n",
      " |      independently.\n",
      " |      \n",
      " |      Parameters\n",
      " |      ----------\n",
      " |      y : int or label, optional\n",
      " |          Label or position of the column to plot.\n",
      " |          If not provided, ``subplots=True`` argument must be passed.\n",
      " |      **kwargs\n",
      " |          Keyword arguments to pass on to :meth:`DataFrame.plot`.\n",
      " |      \n",
      " |      Returns\n",
      " |      -------\n",
      " |      matplotlib.axes.Axes or np.ndarray of them\n",
      " |          A NumPy array is returned when `subplots` is True.\n",
      " |      \n",
      " |      See Also\n",
      " |      --------\n",
      " |      Series.plot.pie : Generate a pie plot for a Series.\n",
      " |      DataFrame.plot : Make plots of a DataFrame.\n",
      " |      \n",
      " |      Examples\n",
      " |      --------\n",
      " |      In the example below we have a DataFrame with the information about\n",
      " |      planet's mass and radius. We pass the 'mass' column to the\n",
      " |      pie function to get a pie plot.\n",
      " |      \n",
      " |      .. plot::\n",
      " |          :context: close-figs\n",
      " |      \n",
      " |          >>> df = pd.DataFrame({'mass': [0.330, 4.87 , 5.97],\n",
      " |          ...                    'radius': [2439.7, 6051.8, 6378.1]},\n",
      " |          ...                   index=['Mercury', 'Venus', 'Earth'])\n",
      " |          >>> plot = df.plot.pie(y='mass', figsize=(5, 5))\n",
      " |      \n",
      " |      .. plot::\n",
      " |          :context: close-figs\n",
      " |      \n",
      " |          >>> plot = df.plot.pie(subplots=True, figsize=(11, 6))\n",
      " |  \n",
      " |  scatter(self, x, y, s=None, c=None, **kwargs)\n",
      " |      Create a scatter plot with varying marker point size and color.\n",
      " |      \n",
      " |      The coordinates of each point are defined by two dataframe columns and\n",
      " |      filled circles are used to represent each point. This kind of plot is\n",
      " |      useful to see complex correlations between two variables. Points could\n",
      " |      be for instance natural 2D coordinates like longitude and latitude in\n",
      " |      a map or, in general, any pair of metrics that can be plotted against\n",
      " |      each other.\n",
      " |      \n",
      " |      Parameters\n",
      " |      ----------\n",
      " |      x : int or str\n",
      " |          The column name or column position to be used as horizontal\n",
      " |          coordinates for each point.\n",
      " |      y : int or str\n",
      " |          The column name or column position to be used as vertical\n",
      " |          coordinates for each point.\n",
      " |      s : str, scalar or array_like, optional\n",
      " |          The size of each point. Possible values are:\n",
      " |      \n",
      " |          - A string with the name of the column to be used for marker's size.\n",
      " |      \n",
      " |          - A single scalar so all points have the same size.\n",
      " |      \n",
      " |          - A sequence of scalars, which will be used for each point's size\n",
      " |            recursively. For instance, when passing [2,14] all points size\n",
      " |            will be either 2 or 14, alternatively.\n",
      " |      \n",
      " |            .. versionchanged:: 1.1.0\n",
      " |      \n",
      " |      c : str, int or array_like, optional\n",
      " |          The color of each point. Possible values are:\n",
      " |      \n",
      " |          - A single color string referred to by name, RGB or RGBA code,\n",
      " |            for instance 'red' or '#a98d19'.\n",
      " |      \n",
      " |          - A sequence of color strings referred to by name, RGB or RGBA\n",
      " |            code, which will be used for each point's color recursively. For\n",
      " |            instance ['green','yellow'] all points will be filled in green or\n",
      " |            yellow, alternatively.\n",
      " |      \n",
      " |          - A column name or position whose values will be used to color the\n",
      " |            marker points according to a colormap.\n",
      " |      \n",
      " |      **kwargs\n",
      " |          Keyword arguments to pass on to :meth:`DataFrame.plot`.\n",
      " |      \n",
      " |      Returns\n",
      " |      -------\n",
      " |      :class:`matplotlib.axes.Axes` or numpy.ndarray of them\n",
      " |      \n",
      " |      See Also\n",
      " |      --------\n",
      " |      matplotlib.pyplot.scatter : Scatter plot using multiple input data\n",
      " |          formats.\n",
      " |      \n",
      " |      Examples\n",
      " |      --------\n",
      " |      Let's see how to draw a scatter plot using coordinates from the values\n",
      " |      in a DataFrame's columns.\n",
      " |      \n",
      " |      .. plot::\n",
      " |          :context: close-figs\n",
      " |      \n",
      " |          >>> df = pd.DataFrame([[5.1, 3.5, 0], [4.9, 3.0, 0], [7.0, 3.2, 1],\n",
      " |          ...                    [6.4, 3.2, 1], [5.9, 3.0, 2]],\n",
      " |          ...                   columns=['length', 'width', 'species'])\n",
      " |          >>> ax1 = df.plot.scatter(x='length',\n",
      " |          ...                       y='width',\n",
      " |          ...                       c='DarkBlue')\n",
      " |      \n",
      " |      And now with the color determined by a column as well.\n",
      " |      \n",
      " |      .. plot::\n",
      " |          :context: close-figs\n",
      " |      \n",
      " |          >>> ax2 = df.plot.scatter(x='length',\n",
      " |          ...                       y='width',\n",
      " |          ...                       c='species',\n",
      " |          ...                       colormap='viridis')\n",
      " |  \n",
      " |  ----------------------------------------------------------------------\n",
      " |  Methods inherited from pandas.core.base.PandasObject:\n",
      " |  \n",
      " |  __repr__(self) -> str\n",
      " |      Return a string representation for a particular object.\n",
      " |  \n",
      " |  __sizeof__(self)\n",
      " |      Generates the total memory usage for an object that returns\n",
      " |      either a value or Series of values\n",
      " |  \n",
      " |  ----------------------------------------------------------------------\n",
      " |  Data and other attributes inherited from pandas.core.base.PandasObject:\n",
      " |  \n",
      " |  __annotations__ = {'_cache': typing.Dict[str, typing.Any]}\n",
      " |  \n",
      " |  ----------------------------------------------------------------------\n",
      " |  Methods inherited from pandas.core.accessor.DirNamesMixin:\n",
      " |  \n",
      " |  __dir__(self)\n",
      " |      Provide method name lookup and completion.\n",
      " |      \n",
      " |      Notes\n",
      " |      -----\n",
      " |      Only provide 'public' methods.\n",
      " |  \n",
      " |  ----------------------------------------------------------------------\n",
      " |  Data descriptors inherited from pandas.core.accessor.DirNamesMixin:\n",
      " |  \n",
      " |  __dict__\n",
      " |      dictionary for instance variables (if defined)\n",
      " |  \n",
      " |  __weakref__\n",
      " |      list of weak references to the object (if defined)\n",
      "\n"
     ]
    }
   ],
   "source": [
    "help(DataFrame.plot)"
   ]
  },
  {
   "cell_type": "code",
   "execution_count": 71,
   "metadata": {},
   "outputs": [
    {
     "data": {
      "text/plain": [
       "count    40.000000\n",
       "mean     40.200000\n",
       "std      24.976091\n",
       "min       0.000000\n",
       "25%      22.500000\n",
       "50%      38.000000\n",
       "75%      58.750000\n",
       "max      99.000000\n",
       "dtype: float64"
      ]
     },
     "execution_count": 71,
     "metadata": {},
     "output_type": "execute_result"
    }
   ],
   "source": [
    "s.describe()"
   ]
  },
  {
   "cell_type": "code",
   "execution_count": 72,
   "metadata": {},
   "outputs": [
    {
     "data": {
      "text/plain": [
       "<AxesSubplot:>"
      ]
     },
     "execution_count": 72,
     "metadata": {},
     "output_type": "execute_result"
    },
    {
     "data": {
      "image/png": "[encoded data removed]",
      "text/plain": [
       "<Figure size 432x288 with 1 Axes>"
      ]
     },
     "metadata": {
      "needs_background": "light"
     },
     "output_type": "display_data"
    }
   ],
   "source": [
    "# descriptive statistics -- John Tewkey\n",
    "\n",
    "# box plot -- visual version of the descriptive statistics\n",
    "\n",
    "s.plot.box()"
   ]
  },
  {
   "cell_type": "code",
   "execution_count": 76,
   "metadata": {},
   "outputs": [],
   "source": [
    "s.loc[0] = 600\n",
    "s.loc[1] = 500\n",
    "s.loc[2] = 400\n",
    "s.loc[3] = 300\n"
   ]
  },
  {
   "cell_type": "code",
   "execution_count": 77,
   "metadata": {},
   "outputs": [
    {
     "data": {
      "text/plain": [
       "<AxesSubplot:>"
      ]
     },
     "execution_count": 77,
     "metadata": {},
     "output_type": "execute_result"
    },
    {
     "data": {
      "image/png": "[encoded data removed]",
      "text/plain": [
       "<Figure size 432x288 with 1 Axes>"
      ]
     },
     "metadata": {
      "needs_background": "light"
     },
     "output_type": "display_data"
    }
   ],
   "source": [
    "s.plot.box()"
   ]
  },
  {
   "cell_type": "code",
   "execution_count": 79,
   "metadata": {},
   "outputs": [
    {
     "data": {
      "text/plain": [
       "343.44016985846724"
      ]
     },
     "execution_count": 79,
     "metadata": {},
     "output_type": "execute_result"
    }
   ],
   "source": [
    "s.mean() + 2*s.std()"
   ]
  },
  {
   "cell_type": "code",
   "execution_count": 80,
   "metadata": {},
   "outputs": [
    {
     "name": "stdout",
     "output_type": "stream",
     "text": [
      "Help on method box in module pandas.plotting._core:\n",
      "\n",
      "box(by=None, **kwargs) method of pandas.plotting._core.PlotAccessor instance\n",
      "    Make a box plot of the DataFrame columns.\n",
      "    \n",
      "    A box plot is a method for graphically depicting groups of numerical\n",
      "    data through their quartiles.\n",
      "    The box extends from the Q1 to Q3 quartile values of the data,\n",
      "    with a line at the median (Q2). The whiskers extend from the edges\n",
      "    of box to show the range of the data. The position of the whiskers\n",
      "    is set by default to 1.5*IQR (IQR = Q3 - Q1) from the edges of the\n",
      "    box. Outlier points are those past the end of the whiskers.\n",
      "    \n",
      "    For further details see Wikipedia's\n",
      "    entry for `boxplot <https://en.wikipedia.org/wiki/Box_plot>`__.\n",
      "    \n",
      "    A consideration when using this chart is that the box and the whiskers\n",
      "    can overlap, which is very common when plotting small sets of data.\n",
      "    \n",
      "    Parameters\n",
      "    ----------\n",
      "    by : str or sequence\n",
      "        Column in the DataFrame to group by.\n",
      "    **kwargs\n",
      "        Additional keywords are documented in\n",
      "        :meth:`DataFrame.plot`.\n",
      "    \n",
      "    Returns\n",
      "    -------\n",
      "    :class:`matplotlib.axes.Axes` or numpy.ndarray of them\n",
      "    \n",
      "    See Also\n",
      "    --------\n",
      "    DataFrame.boxplot: Another method to draw a box plot.\n",
      "    Series.plot.box: Draw a box plot from a Series object.\n",
      "    matplotlib.pyplot.boxplot: Draw a box plot in matplotlib.\n",
      "    \n",
      "    Examples\n",
      "    --------\n",
      "    Draw a box plot from a DataFrame with four columns of randomly\n",
      "    generated data.\n",
      "    \n",
      "    .. plot::\n",
      "        :context: close-figs\n",
      "    \n",
      "        >>> data = np.random.randn(25, 4)\n",
      "        >>> df = pd.DataFrame(data, columns=list('ABCD'))\n",
      "        >>> ax = df.plot.box()\n",
      "\n"
     ]
    }
   ],
   "source": [
    "help(s.plot.box)"
   ]
  },
  {
   "cell_type": "code",
   "execution_count": 81,
   "metadata": {},
   "outputs": [
    {
     "data": {
      "text/plain": [
       "<AxesSubplot:>"
      ]
     },
     "execution_count": 81,
     "metadata": {},
     "output_type": "execute_result"
    },
    {
     "data": {
      "image/png": "[encoded data removed]",
      "text/plain": [
       "<Figure size 432x288 with 1 Axes>"
      ]
     },
     "metadata": {
      "needs_background": "light"
     },
     "output_type": "display_data"
    }
   ],
   "source": [
    "s = Series([2, 4, 2, 4, 2, 4, 20])\n",
    "s.plot.box()"
   ]
  },
  {
   "cell_type": "code",
   "execution_count": 82,
   "metadata": {},
   "outputs": [
    {
     "data": {
      "text/plain": [
       "count     7.000000\n",
       "mean      5.428571\n",
       "std       6.502747\n",
       "min       2.000000\n",
       "25%       2.000000\n",
       "50%       4.000000\n",
       "75%       4.000000\n",
       "max      20.000000\n",
       "dtype: float64"
      ]
     },
     "execution_count": 82,
     "metadata": {},
     "output_type": "execute_result"
    }
   ],
   "source": [
    "s.describe()"
   ]
  },
  {
   "cell_type": "code",
   "execution_count": 83,
   "metadata": {},
   "outputs": [
    {
     "data": {
      "text/plain": [
       "0     2\n",
       "1     4\n",
       "2     2\n",
       "3     4\n",
       "4     2\n",
       "5     4\n",
       "6    20\n",
       "dtype: int64"
      ]
     },
     "execution_count": 83,
     "metadata": {},
     "output_type": "execute_result"
    }
   ],
   "source": [
    "s = "
   ]
  },
  {
   "cell_type": "code",
   "execution_count": 84,
   "metadata": {},
   "outputs": [
    {
     "data": {
      "text/plain": [
       "0     10\n",
       "1     20\n",
       "2     30\n",
       "3     20\n",
       "4     30\n",
       "5     40\n",
       "6     30\n",
       "7     40\n",
       "8     40\n",
       "9     40\n",
       "10    50\n",
       "11    60\n",
       "12    70\n",
       "13    50\n",
       "14    70\n",
       "15    90\n",
       "dtype: int64"
      ]
     },
     "execution_count": 84,
     "metadata": {},
     "output_type": "execute_result"
    }
   ],
   "source": [
    "# value_counts\n",
    "\n",
    "s = Series([10, 20, 30, 20, 30, 40, 30, 40, 40, 40, 50, 60, 70, 50, 70,90])\n",
    "s"
   ]
  },
  {
   "cell_type": "code",
   "execution_count": 85,
   "metadata": {},
   "outputs": [
    {
     "data": {
      "text/plain": [
       "40    4\n",
       "30    3\n",
       "70    2\n",
       "20    2\n",
       "50    2\n",
       "60    1\n",
       "10    1\n",
       "90    1\n",
       "dtype: int64"
      ]
     },
     "execution_count": 85,
     "metadata": {},
     "output_type": "execute_result"
    }
   ],
   "source": [
    "s.value_counts()"
   ]
  },
  {
   "cell_type": "code",
   "execution_count": 86,
   "metadata": {},
   "outputs": [
    {
     "data": {
      "text/plain": [
       "<AxesSubplot:ylabel='None'>"
      ]
     },
     "execution_count": 86,
     "metadata": {},
     "output_type": "execute_result"
    },
    {
     "data": {
      "image/png": "[encoded data removed]",
      "text/plain": [
       "<Figure size 432x288 with 1 Axes>"
      ]
     },
     "metadata": {},
     "output_type": "display_data"
    }
   ],
   "source": [
    "s.plot.pie()  # create a pie plot from our series"
   ]
  },
  {
   "cell_type": "code",
   "execution_count": 87,
   "metadata": {},
   "outputs": [
    {
     "data": {
      "text/plain": [
       "0     10\n",
       "1     20\n",
       "2     30\n",
       "3     20\n",
       "4     30\n",
       "5     40\n",
       "6     30\n",
       "7     40\n",
       "8     40\n",
       "9     40\n",
       "10    50\n",
       "11    60\n",
       "12    70\n",
       "13    50\n",
       "14    70\n",
       "15    90\n",
       "dtype: int64"
      ]
     },
     "execution_count": 87,
     "metadata": {},
     "output_type": "execute_result"
    }
   ],
   "source": [
    "s"
   ]
  },
  {
   "cell_type": "code",
   "execution_count": 88,
   "metadata": {},
   "outputs": [
    {
     "data": {
      "text/plain": [
       "690"
      ]
     },
     "execution_count": 88,
     "metadata": {},
     "output_type": "execute_result"
    }
   ],
   "source": [
    "s.sum()"
   ]
  },
  {
   "cell_type": "code",
   "execution_count": 89,
   "metadata": {},
   "outputs": [
    {
     "data": {
      "text/plain": [
       "<AxesSubplot:ylabel='None'>"
      ]
     },
     "execution_count": 89,
     "metadata": {},
     "output_type": "execute_result"
    },
    {
     "data": {
      "image/png": "[encoded data removed]",
      "text/plain": [
       "<Figure size 432x288 with 1 Axes>"
      ]
     },
     "metadata": {},
     "output_type": "display_data"
    }
   ],
   "source": [
    "s.value_counts().plot.pie()"
   ]
  },
  {
   "cell_type": "code",
   "execution_count": 91,
   "metadata": {},
   "outputs": [
    {
     "name": "stdout",
     "output_type": "stream",
     "text": [
      "Help on method pie in module pandas.plotting._core:\n",
      "\n",
      "pie(**kwargs) method of pandas.plotting._core.PlotAccessor instance\n",
      "    Generate a pie plot.\n",
      "    \n",
      "    A pie plot is a proportional representation of the numerical data in a\n",
      "    column. This function wraps :meth:`matplotlib.pyplot.pie` for the\n",
      "    specified column. If no column reference is passed and\n",
      "    ``subplots=True`` a pie plot is drawn for each numerical column\n",
      "    independently.\n",
      "    \n",
      "    Parameters\n",
      "    ----------\n",
      "    y : int or label, optional\n",
      "        Label or position of the column to plot.\n",
      "        If not provided, ``subplots=True`` argument must be passed.\n",
      "    **kwargs\n",
      "        Keyword arguments to pass on to :meth:`DataFrame.plot`.\n",
      "    \n",
      "    Returns\n",
      "    -------\n",
      "    matplotlib.axes.Axes or np.ndarray of them\n",
      "        A NumPy array is returned when `subplots` is True.\n",
      "    \n",
      "    See Also\n",
      "    --------\n",
      "    Series.plot.pie : Generate a pie plot for a Series.\n",
      "    DataFrame.plot : Make plots of a DataFrame.\n",
      "    \n",
      "    Examples\n",
      "    --------\n",
      "    In the example below we have a DataFrame with the information about\n",
      "    planet's mass and radius. We pass the 'mass' column to the\n",
      "    pie function to get a pie plot.\n",
      "    \n",
      "    .. plot::\n",
      "        :context: close-figs\n",
      "    \n",
      "        >>> df = pd.DataFrame({'mass': [0.330, 4.87 , 5.97],\n",
      "        ...                    'radius': [2439.7, 6051.8, 6378.1]},\n",
      "        ...                   index=['Mercury', 'Venus', 'Earth'])\n",
      "        >>> plot = df.plot.pie(y='mass', figsize=(5, 5))\n",
      "    \n",
      "    .. plot::\n",
      "        :context: close-figs\n",
      "    \n",
      "        >>> plot = df.plot.pie(subplots=True, figsize=(11, 6))\n",
      "\n"
     ]
    }
   ],
   "source": [
    "help(s.plot.pie)"
   ]
  },
  {
   "cell_type": "markdown",
   "metadata": {},
   "source": [
    "# Exercises: Plotting\n",
    "\n",
    "1. Get the weather report for your city over the coming week, and create a series with those temperatures.  The index should contain the days' names.\n",
    "\n",
    "2. Create a line plot with the temperatures.\n",
    "\n",
    "3. Create a pie plot, showing how often each temperature is forecast in the coming week. \n",
    "\n",
    "4. Create a box plot with the temperatures.  What are the maximum, minimum, and mean temperatures?\n"
   ]
  },
  {
   "cell_type": "code",
   "execution_count": 92,
   "metadata": {},
   "outputs": [
    {
     "data": {
      "text/plain": [
       "Tue    32\n",
       "Wed    31\n",
       "Thu    31\n",
       "Fri    31\n",
       "Sat    30\n",
       "Sun    31\n",
       "Mon    33\n",
       "Tue    32\n",
       "dtype: int64"
      ]
     },
     "execution_count": 92,
     "metadata": {},
     "output_type": "execute_result"
    }
   ],
   "source": [
    "s = Series([32, 31, 31, 31, 30, 31, 33, 32],\n",
    "          index='Tue Wed Thu Fri Sat Sun Mon Tue'.split())\n",
    "s\n",
    "\n"
   ]
  },
  {
   "cell_type": "code",
   "execution_count": 93,
   "metadata": {},
   "outputs": [
    {
     "data": {
      "text/plain": [
       "Tue    32\n",
       "Tue    32\n",
       "dtype: int64"
      ]
     },
     "execution_count": 93,
     "metadata": {},
     "output_type": "execute_result"
    }
   ],
   "source": [
    "s.loc['Tue']"
   ]
  },
  {
   "cell_type": "code",
   "execution_count": 104,
   "metadata": {},
   "outputs": [
    {
     "data": {
      "text/plain": [
       "<AxesSubplot:>"
      ]
     },
     "execution_count": 104,
     "metadata": {},
     "output_type": "execute_result"
    },
    {
     "data": {
      "image/png": "[encoded data removed]",
      "text/plain": [
       "<Figure size 432x288 with 1 Axes>"
      ]
     },
     "metadata": {
      "needs_background": "light"
     },
     "output_type": "display_data"
    }
   ],
   "source": [
    "s.plot.line(yticks=list(range(20, 40, 5)))"
   ]
  },
  {
   "cell_type": "code",
   "execution_count": 96,
   "metadata": {
    "collapsed": true
   },
   "outputs": [
    {
     "name": "stdout",
     "output_type": "stream",
     "text": [
      "Help on class PlotAccessor in module pandas.plotting._core:\n",
      "\n",
      "class PlotAccessor(pandas.core.base.PandasObject)\n",
      " |  PlotAccessor(data)\n",
      " |  \n",
      " |  Make plots of Series or DataFrame.\n",
      " |  \n",
      " |  Uses the backend specified by the\n",
      " |  option ``plotting.backend``. By default, matplotlib is used.\n",
      " |  \n",
      " |  Parameters\n",
      " |  ----------\n",
      " |  data : Series or DataFrame\n",
      " |      The object for which the method is called.\n",
      " |  x : label or position, default None\n",
      " |      Only used if data is a DataFrame.\n",
      " |  y : label, position or list of label, positions, default None\n",
      " |      Allows plotting of one column versus another. Only used if data is a\n",
      " |      DataFrame.\n",
      " |  kind : str\n",
      " |      The kind of plot to produce:\n",
      " |  \n",
      " |      - 'line' : line plot (default)\n",
      " |      - 'bar' : vertical bar plot\n",
      " |      - 'barh' : horizontal bar plot\n",
      " |      - 'hist' : histogram\n",
      " |      - 'box' : boxplot\n",
      " |      - 'kde' : Kernel Density Estimation plot\n",
      " |      - 'density' : same as 'kde'\n",
      " |      - 'area' : area plot\n",
      " |      - 'pie' : pie plot\n",
      " |      - 'scatter' : scatter plot\n",
      " |      - 'hexbin' : hexbin plot.\n",
      " |  ax : matplotlib axes object, default None\n",
      " |      An axes of the current figure.\n",
      " |  subplots : bool, default False\n",
      " |      Make separate subplots for each column.\n",
      " |  sharex : bool, default True if ax is None else False\n",
      " |      In case ``subplots=True``, share x axis and set some x axis labels\n",
      " |      to invisible; defaults to True if ax is None otherwise False if\n",
      " |      an ax is passed in; Be aware, that passing in both an ax and\n",
      " |      ``sharex=True`` will alter all x axis labels for all axis in a figure.\n",
      " |  sharey : bool, default False\n",
      " |      In case ``subplots=True``, share y axis and set some y axis labels to invisible.\n",
      " |  layout : tuple, optional\n",
      " |      (rows, columns) for the layout of subplots.\n",
      " |  figsize : a tuple (width, height) in inches\n",
      " |      Size of a figure object.\n",
      " |  use_index : bool, default True\n",
      " |      Use index as ticks for x axis.\n",
      " |  title : str or list\n",
      " |      Title to use for the plot. If a string is passed, print the string\n",
      " |      at the top of the figure. If a list is passed and `subplots` is\n",
      " |      True, print each item in the list above the corresponding subplot.\n",
      " |  grid : bool, default None (matlab style default)\n",
      " |      Axis grid lines.\n",
      " |  legend : bool or {'reverse'}\n",
      " |      Place legend on axis subplots.\n",
      " |  style : list or dict\n",
      " |      The matplotlib line style per column.\n",
      " |  logx : bool or 'sym', default False\n",
      " |      Use log scaling or symlog scaling on x axis.\n",
      " |      .. versionchanged:: 0.25.0\n",
      " |  \n",
      " |  logy : bool or 'sym' default False\n",
      " |      Use log scaling or symlog scaling on y axis.\n",
      " |      .. versionchanged:: 0.25.0\n",
      " |  \n",
      " |  loglog : bool or 'sym', default False\n",
      " |      Use log scaling or symlog scaling on both x and y axes.\n",
      " |      .. versionchanged:: 0.25.0\n",
      " |  \n",
      " |  xticks : sequence\n",
      " |      Values to use for the xticks.\n",
      " |  yticks : sequence\n",
      " |      Values to use for the yticks.\n",
      " |  xlim : 2-tuple/list\n",
      " |      Set the x limits of the current axes.\n",
      " |  ylim : 2-tuple/list\n",
      " |      Set the y limits of the current axes.\n",
      " |  xlabel : label, optional\n",
      " |      Name to use for the xlabel on x-axis. Default uses index name as xlabel.\n",
      " |  \n",
      " |      .. versionadded:: 1.1.0\n",
      " |  \n",
      " |  ylabel : label, optional\n",
      " |      Name to use for the ylabel on y-axis. Default will show no ylabel.\n",
      " |  \n",
      " |      .. versionadded:: 1.1.0\n",
      " |  \n",
      " |  rot : int, default None\n",
      " |      Rotation for ticks (xticks for vertical, yticks for horizontal\n",
      " |      plots).\n",
      " |  fontsize : int, default None\n",
      " |      Font size for xticks and yticks.\n",
      " |  colormap : str or matplotlib colormap object, default None\n",
      " |      Colormap to select colors from. If string, load colormap with that\n",
      " |      name from matplotlib.\n",
      " |  colorbar : bool, optional\n",
      " |      If True, plot colorbar (only relevant for 'scatter' and 'hexbin'\n",
      " |      plots).\n",
      " |  position : float\n",
      " |      Specify relative alignments for bar plot layout.\n",
      " |      From 0 (left/bottom-end) to 1 (right/top-end). Default is 0.5\n",
      " |      (center).\n",
      " |  table : bool, Series or DataFrame, default False\n",
      " |      If True, draw a table using the data in the DataFrame and the data\n",
      " |      will be transposed to meet matplotlib's default layout.\n",
      " |      If a Series or DataFrame is passed, use passed data to draw a\n",
      " |      table.\n",
      " |  yerr : DataFrame, Series, array-like, dict and str\n",
      " |      See :ref:`Plotting with Error Bars <visualization.errorbars>` for\n",
      " |      detail.\n",
      " |  xerr : DataFrame, Series, array-like, dict and str\n",
      " |      Equivalent to yerr.\n",
      " |  stacked : bool, default False in line and bar plots, and True in area plot\n",
      " |      If True, create stacked plot.\n",
      " |  sort_columns : bool, default False\n",
      " |      Sort column names to determine plot ordering.\n",
      " |  secondary_y : bool or sequence, default False\n",
      " |      Whether to plot on the secondary y-axis if a list/tuple, which\n",
      " |      columns to plot on secondary y-axis.\n",
      " |  mark_right : bool, default True\n",
      " |      When using a secondary_y axis, automatically mark the column\n",
      " |      labels with \"(right)\" in the legend.\n",
      " |  include_bool : bool, default is False\n",
      " |      If True, boolean values can be plotted.\n",
      " |  backend : str, default None\n",
      " |      Backend to use instead of the backend specified in the option\n",
      " |      ``plotting.backend``. For instance, 'matplotlib'. Alternatively, to\n",
      " |      specify the ``plotting.backend`` for the whole session, set\n",
      " |      ``pd.options.plotting.backend``.\n",
      " |  \n",
      " |      .. versionadded:: 1.0.0\n",
      " |  \n",
      " |  **kwargs\n",
      " |      Options to pass to matplotlib plotting method.\n",
      " |  \n",
      " |  Returns\n",
      " |  -------\n",
      " |  :class:`matplotlib.axes.Axes` or numpy.ndarray of them\n",
      " |      If the backend is not the default matplotlib one, the return value\n",
      " |      will be the object returned by the backend.\n",
      " |  \n",
      " |  Notes\n",
      " |  -----\n",
      " |  - See matplotlib documentation online for more on this subject\n",
      " |  - If `kind` = 'bar' or 'barh', you can specify relative alignments\n",
      " |    for bar plot layout by `position` keyword.\n",
      " |    From 0 (left/bottom-end) to 1 (right/top-end). Default is 0.5\n",
      " |    (center)\n",
      " |  \n",
      " |  Method resolution order:\n",
      " |      PlotAccessor\n",
      " |      pandas.core.base.PandasObject\n",
      " |      pandas.core.accessor.DirNamesMixin\n",
      " |      builtins.object\n",
      " |  \n",
      " |  Methods defined here:\n",
      " |  \n",
      " |  __call__(self, *args, **kwargs)\n",
      " |      Make plots of Series or DataFrame.\n",
      " |      \n",
      " |      Uses the backend specified by the\n",
      " |      option ``plotting.backend``. By default, matplotlib is used.\n",
      " |      \n",
      " |      Parameters\n",
      " |      ----------\n",
      " |      data : Series or DataFrame\n",
      " |          The object for which the method is called.\n",
      " |      x : label or position, default None\n",
      " |          Only used if data is a DataFrame.\n",
      " |      y : label, position or list of label, positions, default None\n",
      " |          Allows plotting of one column versus another. Only used if data is a\n",
      " |          DataFrame.\n",
      " |      kind : str\n",
      " |          The kind of plot to produce:\n",
      " |      \n",
      " |          - 'line' : line plot (default)\n",
      " |          - 'bar' : vertical bar plot\n",
      " |          - 'barh' : horizontal bar plot\n",
      " |          - 'hist' : histogram\n",
      " |          - 'box' : boxplot\n",
      " |          - 'kde' : Kernel Density Estimation plot\n",
      " |          - 'density' : same as 'kde'\n",
      " |          - 'area' : area plot\n",
      " |          - 'pie' : pie plot\n",
      " |          - 'scatter' : scatter plot\n",
      " |          - 'hexbin' : hexbin plot.\n",
      " |      ax : matplotlib axes object, default None\n",
      " |          An axes of the current figure.\n",
      " |      subplots : bool, default False\n",
      " |          Make separate subplots for each column.\n",
      " |      sharex : bool, default True if ax is None else False\n",
      " |          In case ``subplots=True``, share x axis and set some x axis labels\n",
      " |          to invisible; defaults to True if ax is None otherwise False if\n",
      " |          an ax is passed in; Be aware, that passing in both an ax and\n",
      " |          ``sharex=True`` will alter all x axis labels for all axis in a figure.\n",
      " |      sharey : bool, default False\n",
      " |          In case ``subplots=True``, share y axis and set some y axis labels to invisible.\n",
      " |      layout : tuple, optional\n",
      " |          (rows, columns) for the layout of subplots.\n",
      " |      figsize : a tuple (width, height) in inches\n",
      " |          Size of a figure object.\n",
      " |      use_index : bool, default True\n",
      " |          Use index as ticks for x axis.\n",
      " |      title : str or list\n",
      " |          Title to use for the plot. If a string is passed, print the string\n",
      " |          at the top of the figure. If a list is passed and `subplots` is\n",
      " |          True, print each item in the list above the corresponding subplot.\n",
      " |      grid : bool, default None (matlab style default)\n",
      " |          Axis grid lines.\n",
      " |      legend : bool or {'reverse'}\n",
      " |          Place legend on axis subplots.\n",
      " |      style : list or dict\n",
      " |          The matplotlib line style per column.\n",
      " |      logx : bool or 'sym', default False\n",
      " |          Use log scaling or symlog scaling on x axis.\n",
      " |          .. versionchanged:: 0.25.0\n",
      " |      \n",
      " |      logy : bool or 'sym' default False\n",
      " |          Use log scaling or symlog scaling on y axis.\n",
      " |          .. versionchanged:: 0.25.0\n",
      " |      \n",
      " |      loglog : bool or 'sym', default False\n",
      " |          Use log scaling or symlog scaling on both x and y axes.\n",
      " |          .. versionchanged:: 0.25.0\n",
      " |      \n",
      " |      xticks : sequence\n",
      " |          Values to use for the xticks.\n",
      " |      yticks : sequence\n",
      " |          Values to use for the yticks.\n",
      " |      xlim : 2-tuple/list\n",
      " |          Set the x limits of the current axes.\n",
      " |      ylim : 2-tuple/list\n",
      " |          Set the y limits of the current axes.\n",
      " |      xlabel : label, optional\n",
      " |          Name to use for the xlabel on x-axis. Default uses index name as xlabel.\n",
      " |      \n",
      " |          .. versionadded:: 1.1.0\n",
      " |      \n",
      " |      ylabel : label, optional\n",
      " |          Name to use for the ylabel on y-axis. Default will show no ylabel.\n",
      " |      \n",
      " |          .. versionadded:: 1.1.0\n",
      " |      \n",
      " |      rot : int, default None\n",
      " |          Rotation for ticks (xticks for vertical, yticks for horizontal\n",
      " |          plots).\n",
      " |      fontsize : int, default None\n",
      " |          Font size for xticks and yticks.\n",
      " |      colormap : str or matplotlib colormap object, default None\n",
      " |          Colormap to select colors from. If string, load colormap with that\n",
      " |          name from matplotlib.\n",
      " |      colorbar : bool, optional\n",
      " |          If True, plot colorbar (only relevant for 'scatter' and 'hexbin'\n",
      " |          plots).\n",
      " |      position : float\n",
      " |          Specify relative alignments for bar plot layout.\n",
      " |          From 0 (left/bottom-end) to 1 (right/top-end). Default is 0.5\n",
      " |          (center).\n",
      " |      table : bool, Series or DataFrame, default False\n",
      " |          If True, draw a table using the data in the DataFrame and the data\n",
      " |          will be transposed to meet matplotlib's default layout.\n",
      " |          If a Series or DataFrame is passed, use passed data to draw a\n",
      " |          table.\n",
      " |      yerr : DataFrame, Series, array-like, dict and str\n",
      " |          See :ref:`Plotting with Error Bars <visualization.errorbars>` for\n",
      " |          detail.\n",
      " |      xerr : DataFrame, Series, array-like, dict and str\n",
      " |          Equivalent to yerr.\n",
      " |      stacked : bool, default False in line and bar plots, and True in area plot\n",
      " |          If True, create stacked plot.\n",
      " |      sort_columns : bool, default False\n",
      " |          Sort column names to determine plot ordering.\n",
      " |      secondary_y : bool or sequence, default False\n",
      " |          Whether to plot on the secondary y-axis if a list/tuple, which\n",
      " |          columns to plot on secondary y-axis.\n",
      " |      mark_right : bool, default True\n",
      " |          When using a secondary_y axis, automatically mark the column\n",
      " |          labels with \"(right)\" in the legend.\n",
      " |      include_bool : bool, default is False\n",
      " |          If True, boolean values can be plotted.\n",
      " |      backend : str, default None\n",
      " |          Backend to use instead of the backend specified in the option\n",
      " |          ``plotting.backend``. For instance, 'matplotlib'. Alternatively, to\n",
      " |          specify the ``plotting.backend`` for the whole session, set\n",
      " |          ``pd.options.plotting.backend``.\n",
      " |      \n",
      " |          .. versionadded:: 1.0.0\n",
      " |      \n",
      " |      **kwargs\n",
      " |          Options to pass to matplotlib plotting method.\n",
      " |      \n",
      " |      Returns\n",
      " |      -------\n",
      " |      :class:`matplotlib.axes.Axes` or numpy.ndarray of them\n",
      " |          If the backend is not the default matplotlib one, the return value\n",
      " |          will be the object returned by the backend.\n",
      " |      \n",
      " |      Notes\n",
      " |      -----\n",
      " |      - See matplotlib documentation online for more on this subject\n",
      " |      - If `kind` = 'bar' or 'barh', you can specify relative alignments\n",
      " |        for bar plot layout by `position` keyword.\n",
      " |        From 0 (left/bottom-end) to 1 (right/top-end). Default is 0.5\n",
      " |        (center)\n",
      " |  \n",
      " |  __init__(self, data)\n",
      " |      Initialize self.  See help(type(self)) for accurate signature.\n",
      " |  \n",
      " |  area(self, x=None, y=None, **kwargs)\n",
      " |      Draw a stacked area plot.\n",
      " |      \n",
      " |      An area plot displays quantitative data visually.\n",
      " |      This function wraps the matplotlib area function.\n",
      " |      \n",
      " |      Parameters\n",
      " |      ----------\n",
      " |      x : label or position, optional\n",
      " |          Coordinates for the X axis. By default uses the index.\n",
      " |      y : label or position, optional\n",
      " |          Column to plot. By default uses all columns.\n",
      " |      stacked : bool, default True\n",
      " |          Area plots are stacked by default. Set to False to create a\n",
      " |          unstacked plot.\n",
      " |      **kwargs\n",
      " |          Additional keyword arguments are documented in\n",
      " |          :meth:`DataFrame.plot`.\n",
      " |      \n",
      " |      Returns\n",
      " |      -------\n",
      " |      matplotlib.axes.Axes or numpy.ndarray\n",
      " |          Area plot, or array of area plots if subplots is True.\n",
      " |      \n",
      " |      See Also\n",
      " |      --------\n",
      " |      DataFrame.plot : Make plots of DataFrame using matplotlib / pylab.\n",
      " |      \n",
      " |      Examples\n",
      " |      --------\n",
      " |      Draw an area plot based on basic business metrics:\n",
      " |      \n",
      " |      .. plot::\n",
      " |          :context: close-figs\n",
      " |      \n",
      " |          >>> df = pd.DataFrame({\n",
      " |          ...     'sales': [3, 2, 3, 9, 10, 6],\n",
      " |          ...     'signups': [5, 5, 6, 12, 14, 13],\n",
      " |          ...     'visits': [20, 42, 28, 62, 81, 50],\n",
      " |          ... }, index=pd.date_range(start='2018/01/01', end='2018/07/01',\n",
      " |          ...                        freq='M'))\n",
      " |          >>> ax = df.plot.area()\n",
      " |      \n",
      " |      Area plots are stacked by default. To produce an unstacked plot,\n",
      " |      pass ``stacked=False``:\n",
      " |      \n",
      " |      .. plot::\n",
      " |          :context: close-figs\n",
      " |      \n",
      " |          >>> ax = df.plot.area(stacked=False)\n",
      " |      \n",
      " |      Draw an area plot for a single column:\n",
      " |      \n",
      " |      .. plot::\n",
      " |          :context: close-figs\n",
      " |      \n",
      " |          >>> ax = df.plot.area(y='sales')\n",
      " |      \n",
      " |      Draw with a different `x`:\n",
      " |      \n",
      " |      .. plot::\n",
      " |          :context: close-figs\n",
      " |      \n",
      " |          >>> df = pd.DataFrame({\n",
      " |          ...     'sales': [3, 2, 3],\n",
      " |          ...     'visits': [20, 42, 28],\n",
      " |          ...     'day': [1, 2, 3],\n",
      " |          ... })\n",
      " |          >>> ax = df.plot.area(x='day')\n",
      " |  \n",
      " |  bar(self, x=None, y=None, **kwargs)\n",
      " |      Vertical bar plot.\n",
      " |      \n",
      " |      A bar plot is a plot that presents categorical data with\n",
      " |      rectangular bars with lengths proportional to the values that they\n",
      " |      represent. A bar plot shows comparisons among discrete categories. One\n",
      " |      axis of the plot shows the specific categories being compared, and the\n",
      " |      other axis represents a measured value.\n",
      " |      \n",
      " |      Parameters\n",
      " |      ----------\n",
      " |      x : label or position, optional\n",
      " |          Allows plotting of one column versus another. If not specified,\n",
      " |          the index of the DataFrame is used.\n",
      " |      y : label or position, optional\n",
      " |          Allows plotting of one column versus another. If not specified,\n",
      " |          all numerical columns are used.\n",
      " |      color : str, array_like, or dict, optional\n",
      " |          The color for each of the DataFrame's columns. Possible values are:\n",
      " |      \n",
      " |          - A single color string referred to by name, RGB or RGBA code,\n",
      " |              for instance 'red' or '#a98d19'.\n",
      " |      \n",
      " |          - A sequence of color strings referred to by name, RGB or RGBA\n",
      " |              code, which will be used for each column recursively. For\n",
      " |              instance ['green','yellow'] each column's bar will be filled in\n",
      " |              green or yellow, alternatively.\n",
      " |      \n",
      " |          - A dict of the form {column name : color}, so that each column will be\n",
      " |              colored accordingly. For example, if your columns are called `a` and\n",
      " |              `b`, then passing {'a': 'green', 'b': 'red'} will color bars for\n",
      " |              column `a` in green and bars for column `b` in red.\n",
      " |      \n",
      " |          .. versionadded:: 1.1.0\n",
      " |      \n",
      " |      **kwargs\n",
      " |          Additional keyword arguments are documented in\n",
      " |          :meth:`DataFrame.plot`.\n",
      " |      \n",
      " |      Returns\n",
      " |      -------\n",
      " |      matplotlib.axes.Axes or np.ndarray of them\n",
      " |          An ndarray is returned with one :class:`matplotlib.axes.Axes`\n",
      " |          per column when ``subplots=True``.\n",
      " |      \n",
      " |              See Also\n",
      " |              --------\n",
      " |              DataFrame.plot.barh : Horizontal bar plot.\n",
      " |              DataFrame.plot : Make plots of a DataFrame.\n",
      " |              matplotlib.pyplot.bar : Make a bar plot with matplotlib.\n",
      " |      \n",
      " |              Examples\n",
      " |              --------\n",
      " |              Basic plot.\n",
      " |      \n",
      " |              .. plot::\n",
      " |                  :context: close-figs\n",
      " |      \n",
      " |                  >>> df = pd.DataFrame({'lab':['A', 'B', 'C'], 'val':[10, 30, 20]})\n",
      " |                  >>> ax = df.plot.bar(x='lab', y='val', rot=0)\n",
      " |      \n",
      " |              Plot a whole dataframe to a bar plot. Each column is assigned a\n",
      " |              distinct color, and each row is nested in a group along the\n",
      " |              horizontal axis.\n",
      " |      \n",
      " |              .. plot::\n",
      " |                  :context: close-figs\n",
      " |      \n",
      " |                  >>> speed = [0.1, 17.5, 40, 48, 52, 69, 88]\n",
      " |                  >>> lifespan = [2, 8, 70, 1.5, 25, 12, 28]\n",
      " |                  >>> index = ['snail', 'pig', 'elephant',\n",
      " |                  ...          'rabbit', 'giraffe', 'coyote', 'horse']\n",
      " |                  >>> df = pd.DataFrame({'speed': speed,\n",
      " |                  ...                    'lifespan': lifespan}, index=index)\n",
      " |                  >>> ax = df.plot.bar(rot=0)\n",
      " |      \n",
      " |              Plot stacked bar charts for the DataFrame\n",
      " |      \n",
      " |              .. plot::\n",
      " |                  :context: close-figs\n",
      " |      \n",
      " |                  >>> ax = df.plot.bar(stacked=True)\n",
      " |      \n",
      " |              Instead of nesting, the figure can be split by column with\n",
      " |              ``subplots=True``. In this case, a :class:`numpy.ndarray` of\n",
      " |              :class:`matplotlib.axes.Axes` are returned.\n",
      " |      \n",
      " |              .. plot::\n",
      " |                  :context: close-figs\n",
      " |      \n",
      " |                  >>> axes = df.plot.bar(rot=0, subplots=True)\n",
      " |                  >>> axes[1].legend(loc=2)  # doctest: +SKIP\n",
      " |      \n",
      " |              If you don't like the default colours, you can specify how you'd\n",
      " |              like each column to be colored.\n",
      " |      \n",
      " |              .. plot::\n",
      " |                  :context: close-figs\n",
      " |      \n",
      " |                  >>> axes = df.plot.bar(\n",
      " |                  ...     rot=0, subplots=True, color={\"speed\": \"red\", \"lifespan\": \"green\"}\n",
      " |                  ... )\n",
      " |                  >>> axes[1].legend(loc=2)  # doctest: +SKIP\n",
      " |      \n",
      " |              Plot a single column.\n",
      " |      \n",
      " |              .. plot::\n",
      " |                  :context: close-figs\n",
      " |      \n",
      " |                  >>> ax = df.plot.bar(y='speed', rot=0)\n",
      " |      \n",
      " |              Plot only selected categories for the DataFrame.\n",
      " |      \n",
      " |              .. plot::\n",
      " |                  :context: close-figs\n",
      " |      \n",
      " |                  >>> ax = df.plot.bar(x='lifespan', rot=0)\n",
      " |  \n",
      " |  barh(self, x=None, y=None, **kwargs)\n",
      " |      Make a horizontal bar plot.\n",
      " |      \n",
      " |      A horizontal bar plot is a plot that presents quantitative data with\n",
      " |      rectangular bars with lengths proportional to the values that they\n",
      " |      represent. A bar plot shows comparisons among discrete categories. One\n",
      " |      axis of the plot shows the specific categories being compared, and the\n",
      " |      other axis represents a measured value.\n",
      " |      \n",
      " |      Parameters\n",
      " |      ----------\n",
      " |      x : label or position, optional\n",
      " |          Allows plotting of one column versus another. If not specified,\n",
      " |          the index of the DataFrame is used.\n",
      " |      y : label or position, optional\n",
      " |          Allows plotting of one column versus another. If not specified,\n",
      " |          all numerical columns are used.\n",
      " |      color : str, array_like, or dict, optional\n",
      " |          The color for each of the DataFrame's columns. Possible values are:\n",
      " |      \n",
      " |          - A single color string referred to by name, RGB or RGBA code,\n",
      " |              for instance 'red' or '#a98d19'.\n",
      " |      \n",
      " |          - A sequence of color strings referred to by name, RGB or RGBA\n",
      " |              code, which will be used for each column recursively. For\n",
      " |              instance ['green','yellow'] each column's bar will be filled in\n",
      " |              green or yellow, alternatively.\n",
      " |      \n",
      " |          - A dict of the form {column name : color}, so that each column will be\n",
      " |              colored accordingly. For example, if your columns are called `a` and\n",
      " |              `b`, then passing {'a': 'green', 'b': 'red'} will color bars for\n",
      " |              column `a` in green and bars for column `b` in red.\n",
      " |      \n",
      " |          .. versionadded:: 1.1.0\n",
      " |      \n",
      " |      **kwargs\n",
      " |          Additional keyword arguments are documented in\n",
      " |          :meth:`DataFrame.plot`.\n",
      " |      \n",
      " |      Returns\n",
      " |      -------\n",
      " |      matplotlib.axes.Axes or np.ndarray of them\n",
      " |          An ndarray is returned with one :class:`matplotlib.axes.Axes`\n",
      " |          per column when ``subplots=True``.\n",
      " |      \n",
      " |              See Also\n",
      " |              --------\n",
      " |              DataFrame.plot.bar: Vertical bar plot.\n",
      " |              DataFrame.plot : Make plots of DataFrame using matplotlib.\n",
      " |              matplotlib.axes.Axes.bar : Plot a vertical bar plot using matplotlib.\n",
      " |      \n",
      " |              Examples\n",
      " |              --------\n",
      " |              Basic example\n",
      " |      \n",
      " |              .. plot::\n",
      " |                  :context: close-figs\n",
      " |      \n",
      " |                  >>> df = pd.DataFrame({'lab': ['A', 'B', 'C'], 'val': [10, 30, 20]})\n",
      " |                  >>> ax = df.plot.barh(x='lab', y='val')\n",
      " |      \n",
      " |              Plot a whole DataFrame to a horizontal bar plot\n",
      " |      \n",
      " |              .. plot::\n",
      " |                  :context: close-figs\n",
      " |      \n",
      " |                  >>> speed = [0.1, 17.5, 40, 48, 52, 69, 88]\n",
      " |                  >>> lifespan = [2, 8, 70, 1.5, 25, 12, 28]\n",
      " |                  >>> index = ['snail', 'pig', 'elephant',\n",
      " |                  ...          'rabbit', 'giraffe', 'coyote', 'horse']\n",
      " |                  >>> df = pd.DataFrame({'speed': speed,\n",
      " |                  ...                    'lifespan': lifespan}, index=index)\n",
      " |                  >>> ax = df.plot.barh()\n",
      " |      \n",
      " |              Plot stacked barh charts for the DataFrame\n",
      " |      \n",
      " |              .. plot::\n",
      " |                  :context: close-figs\n",
      " |      \n",
      " |                  >>> ax = df.plot.barh(stacked=True)\n",
      " |      \n",
      " |              We can specify colors for each column\n",
      " |      \n",
      " |              .. plot::\n",
      " |                  :context: close-figs\n",
      " |      \n",
      " |                  >>> ax = df.plot.barh(color={\"speed\": \"red\", \"lifespan\": \"green\"})\n",
      " |      \n",
      " |              Plot a column of the DataFrame to a horizontal bar plot\n",
      " |      \n",
      " |              .. plot::\n",
      " |                  :context: close-figs\n",
      " |      \n",
      " |                  >>> speed = [0.1, 17.5, 40, 48, 52, 69, 88]\n",
      " |                  >>> lifespan = [2, 8, 70, 1.5, 25, 12, 28]\n",
      " |                  >>> index = ['snail', 'pig', 'elephant',\n",
      " |                  ...          'rabbit', 'giraffe', 'coyote', 'horse']\n",
      " |                  >>> df = pd.DataFrame({'speed': speed,\n",
      " |                  ...                    'lifespan': lifespan}, index=index)\n",
      " |                  >>> ax = df.plot.barh(y='speed')\n",
      " |      \n",
      " |              Plot DataFrame versus the desired column\n",
      " |      \n",
      " |              .. plot::\n",
      " |                  :context: close-figs\n",
      " |      \n",
      " |                  >>> speed = [0.1, 17.5, 40, 48, 52, 69, 88]\n",
      " |                  >>> lifespan = [2, 8, 70, 1.5, 25, 12, 28]\n",
      " |                  >>> index = ['snail', 'pig', 'elephant',\n",
      " |                  ...          'rabbit', 'giraffe', 'coyote', 'horse']\n",
      " |                  >>> df = pd.DataFrame({'speed': speed,\n",
      " |                  ...                    'lifespan': lifespan}, index=index)\n",
      " |                  >>> ax = df.plot.barh(x='lifespan')\n",
      " |  \n",
      " |  box(self, by=None, **kwargs)\n",
      " |      Make a box plot of the DataFrame columns.\n",
      " |      \n",
      " |      A box plot is a method for graphically depicting groups of numerical\n",
      " |      data through their quartiles.\n",
      " |      The box extends from the Q1 to Q3 quartile values of the data,\n",
      " |      with a line at the median (Q2). The whiskers extend from the edges\n",
      " |      of box to show the range of the data. The position of the whiskers\n",
      " |      is set by default to 1.5*IQR (IQR = Q3 - Q1) from the edges of the\n",
      " |      box. Outlier points are those past the end of the whiskers.\n",
      " |      \n",
      " |      For further details see Wikipedia's\n",
      " |      entry for `boxplot <https://en.wikipedia.org/wiki/Box_plot>`__.\n",
      " |      \n",
      " |      A consideration when using this chart is that the box and the whiskers\n",
      " |      can overlap, which is very common when plotting small sets of data.\n",
      " |      \n",
      " |      Parameters\n",
      " |      ----------\n",
      " |      by : str or sequence\n",
      " |          Column in the DataFrame to group by.\n",
      " |      **kwargs\n",
      " |          Additional keywords are documented in\n",
      " |          :meth:`DataFrame.plot`.\n",
      " |      \n",
      " |      Returns\n",
      " |      -------\n",
      " |      :class:`matplotlib.axes.Axes` or numpy.ndarray of them\n",
      " |      \n",
      " |      See Also\n",
      " |      --------\n",
      " |      DataFrame.boxplot: Another method to draw a box plot.\n",
      " |      Series.plot.box: Draw a box plot from a Series object.\n",
      " |      matplotlib.pyplot.boxplot: Draw a box plot in matplotlib.\n",
      " |      \n",
      " |      Examples\n",
      " |      --------\n",
      " |      Draw a box plot from a DataFrame with four columns of randomly\n",
      " |      generated data.\n",
      " |      \n",
      " |      .. plot::\n",
      " |          :context: close-figs\n",
      " |      \n",
      " |          >>> data = np.random.randn(25, 4)\n",
      " |          >>> df = pd.DataFrame(data, columns=list('ABCD'))\n",
      " |          >>> ax = df.plot.box()\n",
      " |  \n",
      " |  density = kde(self, bw_method=None, ind=None, **kwargs)\n",
      " |  \n",
      " |  hexbin(self, x, y, C=None, reduce_C_function=None, gridsize=None, **kwargs)\n",
      " |      Generate a hexagonal binning plot.\n",
      " |      \n",
      " |      Generate a hexagonal binning plot of `x` versus `y`. If `C` is `None`\n",
      " |      (the default), this is a histogram of the number of occurrences\n",
      " |      of the observations at ``(x[i], y[i])``.\n",
      " |      \n",
      " |      If `C` is specified, specifies values at given coordinates\n",
      " |      ``(x[i], y[i])``. These values are accumulated for each hexagonal\n",
      " |      bin and then reduced according to `reduce_C_function`,\n",
      " |      having as default the NumPy's mean function (:meth:`numpy.mean`).\n",
      " |      (If `C` is specified, it must also be a 1-D sequence\n",
      " |      of the same length as `x` and `y`, or a column label.)\n",
      " |      \n",
      " |      Parameters\n",
      " |      ----------\n",
      " |      x : int or str\n",
      " |          The column label or position for x points.\n",
      " |      y : int or str\n",
      " |          The column label or position for y points.\n",
      " |      C : int or str, optional\n",
      " |          The column label or position for the value of `(x, y)` point.\n",
      " |      reduce_C_function : callable, default `np.mean`\n",
      " |          Function of one argument that reduces all the values in a bin to\n",
      " |          a single number (e.g. `np.mean`, `np.max`, `np.sum`, `np.std`).\n",
      " |      gridsize : int or tuple of (int, int), default 100\n",
      " |          The number of hexagons in the x-direction.\n",
      " |          The corresponding number of hexagons in the y-direction is\n",
      " |          chosen in a way that the hexagons are approximately regular.\n",
      " |          Alternatively, gridsize can be a tuple with two elements\n",
      " |          specifying the number of hexagons in the x-direction and the\n",
      " |          y-direction.\n",
      " |      **kwargs\n",
      " |          Additional keyword arguments are documented in\n",
      " |          :meth:`DataFrame.plot`.\n",
      " |      \n",
      " |      Returns\n",
      " |      -------\n",
      " |      matplotlib.AxesSubplot\n",
      " |          The matplotlib ``Axes`` on which the hexbin is plotted.\n",
      " |      \n",
      " |      See Also\n",
      " |      --------\n",
      " |      DataFrame.plot : Make plots of a DataFrame.\n",
      " |      matplotlib.pyplot.hexbin : Hexagonal binning plot using matplotlib,\n",
      " |          the matplotlib function that is used under the hood.\n",
      " |      \n",
      " |      Examples\n",
      " |      --------\n",
      " |      The following examples are generated with random data from\n",
      " |      a normal distribution.\n",
      " |      \n",
      " |      .. plot::\n",
      " |          :context: close-figs\n",
      " |      \n",
      " |          >>> n = 10000\n",
      " |          >>> df = pd.DataFrame({'x': np.random.randn(n),\n",
      " |          ...                    'y': np.random.randn(n)})\n",
      " |          >>> ax = df.plot.hexbin(x='x', y='y', gridsize=20)\n",
      " |      \n",
      " |      The next example uses `C` and `np.sum` as `reduce_C_function`.\n",
      " |      Note that `'observations'` values ranges from 1 to 5 but the result\n",
      " |      plot shows values up to more than 25. This is because of the\n",
      " |      `reduce_C_function`.\n",
      " |      \n",
      " |      .. plot::\n",
      " |          :context: close-figs\n",
      " |      \n",
      " |          >>> n = 500\n",
      " |          >>> df = pd.DataFrame({\n",
      " |          ...     'coord_x': np.random.uniform(-3, 3, size=n),\n",
      " |          ...     'coord_y': np.random.uniform(30, 50, size=n),\n",
      " |          ...     'observations': np.random.randint(1,5, size=n)\n",
      " |          ...     })\n",
      " |          >>> ax = df.plot.hexbin(x='coord_x',\n",
      " |          ...                     y='coord_y',\n",
      " |          ...                     C='observations',\n",
      " |          ...                     reduce_C_function=np.sum,\n",
      " |          ...                     gridsize=10,\n",
      " |          ...                     cmap=\"viridis\")\n",
      " |  \n",
      " |  hist(self, by=None, bins=10, **kwargs)\n",
      " |      Draw one histogram of the DataFrame's columns.\n",
      " |      \n",
      " |      A histogram is a representation of the distribution of data.\n",
      " |      This function groups the values of all given Series in the DataFrame\n",
      " |      into bins and draws all bins in one :class:`matplotlib.axes.Axes`.\n",
      " |      This is useful when the DataFrame's Series are in a similar scale.\n",
      " |      \n",
      " |      Parameters\n",
      " |      ----------\n",
      " |      by : str or sequence, optional\n",
      " |          Column in the DataFrame to group by.\n",
      " |      bins : int, default 10\n",
      " |          Number of histogram bins to be used.\n",
      " |      **kwargs\n",
      " |          Additional keyword arguments are documented in\n",
      " |          :meth:`DataFrame.plot`.\n",
      " |      \n",
      " |      Returns\n",
      " |      -------\n",
      " |      class:`matplotlib.AxesSubplot`\n",
      " |          Return a histogram plot.\n",
      " |      \n",
      " |      See Also\n",
      " |      --------\n",
      " |      DataFrame.hist : Draw histograms per DataFrame's Series.\n",
      " |      Series.hist : Draw a histogram with Series' data.\n",
      " |      \n",
      " |      Examples\n",
      " |      --------\n",
      " |      When we draw a dice 6000 times, we expect to get each value around 1000\n",
      " |      times. But when we draw two dices and sum the result, the distribution\n",
      " |      is going to be quite different. A histogram illustrates those\n",
      " |      distributions.\n",
      " |      \n",
      " |      .. plot::\n",
      " |          :context: close-figs\n",
      " |      \n",
      " |          >>> df = pd.DataFrame(\n",
      " |          ...     np.random.randint(1, 7, 6000),\n",
      " |          ...     columns = ['one'])\n",
      " |          >>> df['two'] = df['one'] + np.random.randint(1, 7, 6000)\n",
      " |          >>> ax = df.plot.hist(bins=12, alpha=0.5)\n",
      " |  \n",
      " |  kde(self, bw_method=None, ind=None, **kwargs)\n",
      " |      Generate Kernel Density Estimate plot using Gaussian kernels.\n",
      " |      \n",
      " |      In statistics, `kernel density estimation`_ (KDE) is a non-parametric\n",
      " |      way to estimate the probability density function (PDF) of a random\n",
      " |      variable. This function uses Gaussian kernels and includes automatic\n",
      " |      bandwidth determination.\n",
      " |      \n",
      " |      .. _kernel density estimation:\n",
      " |          https://en.wikipedia.org/wiki/Kernel_density_estimation\n",
      " |      \n",
      " |      Parameters\n",
      " |      ----------\n",
      " |      bw_method : str, scalar or callable, optional\n",
      " |          The method used to calculate the estimator bandwidth. This can be\n",
      " |          'scott', 'silverman', a scalar constant or a callable.\n",
      " |          If None (default), 'scott' is used.\n",
      " |          See :class:`scipy.stats.gaussian_kde` for more information.\n",
      " |      ind : NumPy array or int, optional\n",
      " |          Evaluation points for the estimated PDF. If None (default),\n",
      " |          1000 equally spaced points are used. If `ind` is a NumPy array, the\n",
      " |          KDE is evaluated at the points passed. If `ind` is an integer,\n",
      " |          `ind` number of equally spaced points are used.\n",
      " |      **kwargs\n",
      " |          Additional keyword arguments are documented in\n",
      " |          :meth:`pandas.%(this-datatype)s.plot`.\n",
      " |      \n",
      " |      Returns\n",
      " |      -------\n",
      " |      matplotlib.axes.Axes or numpy.ndarray of them\n",
      " |      \n",
      " |      See Also\n",
      " |      --------\n",
      " |      scipy.stats.gaussian_kde : Representation of a kernel-density\n",
      " |          estimate using Gaussian kernels. This is the function used\n",
      " |          internally to estimate the PDF.\n",
      " |      \n",
      " |      Examples\n",
      " |      --------\n",
      " |      Given a Series of points randomly sampled from an unknown\n",
      " |      distribution, estimate its PDF using KDE with automatic\n",
      " |      bandwidth determination and plot the results, evaluating them at\n",
      " |      1000 equally spaced points (default):\n",
      " |      \n",
      " |      .. plot::\n",
      " |          :context: close-figs\n",
      " |      \n",
      " |          >>> s = pd.Series([1, 2, 2.5, 3, 3.5, 4, 5])\n",
      " |          >>> ax = s.plot.kde()\n",
      " |      \n",
      " |      A scalar bandwidth can be specified. Using a small bandwidth value can\n",
      " |      lead to over-fitting, while using a large bandwidth value may result\n",
      " |      in under-fitting:\n",
      " |      \n",
      " |      .. plot::\n",
      " |          :context: close-figs\n",
      " |      \n",
      " |          >>> ax = s.plot.kde(bw_method=0.3)\n",
      " |      \n",
      " |      .. plot::\n",
      " |          :context: close-figs\n",
      " |      \n",
      " |          >>> ax = s.plot.kde(bw_method=3)\n",
      " |      \n",
      " |      Finally, the `ind` parameter determines the evaluation points for the\n",
      " |      plot of the estimated PDF:\n",
      " |      \n",
      " |      .. plot::\n",
      " |          :context: close-figs\n",
      " |      \n",
      " |          >>> ax = s.plot.kde(ind=[1, 2, 3, 4, 5])\n",
      " |      \n",
      " |      For DataFrame, it works in the same way:\n",
      " |      \n",
      " |      .. plot::\n",
      " |          :context: close-figs\n",
      " |      \n",
      " |          >>> df = pd.DataFrame({\n",
      " |          ...     'x': [1, 2, 2.5, 3, 3.5, 4, 5],\n",
      " |          ...     'y': [4, 4, 4.5, 5, 5.5, 6, 6],\n",
      " |          ... })\n",
      " |          >>> ax = df.plot.kde()\n",
      " |      \n",
      " |      A scalar bandwidth can be specified. Using a small bandwidth value can\n",
      " |      lead to over-fitting, while using a large bandwidth value may result\n",
      " |      in under-fitting:\n",
      " |      \n",
      " |      .. plot::\n",
      " |          :context: close-figs\n",
      " |      \n",
      " |          >>> ax = df.plot.kde(bw_method=0.3)\n",
      " |      \n",
      " |      .. plot::\n",
      " |          :context: close-figs\n",
      " |      \n",
      " |          >>> ax = df.plot.kde(bw_method=3)\n",
      " |      \n",
      " |      Finally, the `ind` parameter determines the evaluation points for the\n",
      " |      plot of the estimated PDF:\n",
      " |      \n",
      " |      .. plot::\n",
      " |          :context: close-figs\n",
      " |      \n",
      " |          >>> ax = df.plot.kde(ind=[1, 2, 3, 4, 5, 6])\n",
      " |  \n",
      " |  line(self, x=None, y=None, **kwargs)\n",
      " |      Plot Series or DataFrame as lines.\n",
      " |      \n",
      " |      This function is useful to plot lines using DataFrame's values\n",
      " |      as coordinates.\n",
      " |      \n",
      " |      Parameters\n",
      " |      ----------\n",
      " |      x : label or position, optional\n",
      " |          Allows plotting of one column versus another. If not specified,\n",
      " |          the index of the DataFrame is used.\n",
      " |      y : label or position, optional\n",
      " |          Allows plotting of one column versus another. If not specified,\n",
      " |          all numerical columns are used.\n",
      " |      color : str, array_like, or dict, optional\n",
      " |          The color for each of the DataFrame's columns. Possible values are:\n",
      " |      \n",
      " |          - A single color string referred to by name, RGB or RGBA code,\n",
      " |              for instance 'red' or '#a98d19'.\n",
      " |      \n",
      " |          - A sequence of color strings referred to by name, RGB or RGBA\n",
      " |              code, which will be used for each column recursively. For\n",
      " |              instance ['green','yellow'] each column's line will be filled in\n",
      " |              green or yellow, alternatively.\n",
      " |      \n",
      " |          - A dict of the form {column name : color}, so that each column will be\n",
      " |              colored accordingly. For example, if your columns are called `a` and\n",
      " |              `b`, then passing {'a': 'green', 'b': 'red'} will color lines for\n",
      " |              column `a` in green and lines for column `b` in red.\n",
      " |      \n",
      " |          .. versionadded:: 1.1.0\n",
      " |      \n",
      " |      **kwargs\n",
      " |          Additional keyword arguments are documented in\n",
      " |          :meth:`DataFrame.plot`.\n",
      " |      \n",
      " |      Returns\n",
      " |      -------\n",
      " |      matplotlib.axes.Axes or np.ndarray of them\n",
      " |          An ndarray is returned with one :class:`matplotlib.axes.Axes`\n",
      " |          per column when ``subplots=True``.\n",
      " |      \n",
      " |              See Also\n",
      " |              --------\n",
      " |              matplotlib.pyplot.plot : Plot y versus x as lines and/or markers.\n",
      " |      \n",
      " |              Examples\n",
      " |              --------\n",
      " |      \n",
      " |              .. plot::\n",
      " |                  :context: close-figs\n",
      " |      \n",
      " |                  >>> s = pd.Series([1, 3, 2])\n",
      " |                  >>> s.plot.line()\n",
      " |      \n",
      " |              .. plot::\n",
      " |                  :context: close-figs\n",
      " |      \n",
      " |                  The following example shows the populations for some animals\n",
      " |                  over the years.\n",
      " |      \n",
      " |                  >>> df = pd.DataFrame({\n",
      " |                  ...    'pig': [20, 18, 489, 675, 1776],\n",
      " |                  ...    'horse': [4, 25, 281, 600, 1900]\n",
      " |                  ...    }, index=[1990, 1997, 2003, 2009, 2014])\n",
      " |                  >>> lines = df.plot.line()\n",
      " |      \n",
      " |              .. plot::\n",
      " |                 :context: close-figs\n",
      " |      \n",
      " |                 An example with subplots, so an array of axes is returned.\n",
      " |      \n",
      " |                 >>> axes = df.plot.line(subplots=True)\n",
      " |                 >>> type(axes)\n",
      " |                 <class 'numpy.ndarray'>\n",
      " |      \n",
      " |              .. plot::\n",
      " |                 :context: close-figs\n",
      " |      \n",
      " |                 Let's repeat the same example, but specifying colors for\n",
      " |                 each column (in this case, for each animal).\n",
      " |      \n",
      " |                 >>> axes = df.plot.line(\n",
      " |                 ...     subplots=True, color={\"pig\": \"pink\", \"horse\": \"#742802\"}\n",
      " |                 ... )\n",
      " |      \n",
      " |              .. plot::\n",
      " |                  :context: close-figs\n",
      " |      \n",
      " |                  The following example shows the relationship between both\n",
      " |                  populations.\n",
      " |      \n",
      " |                  >>> lines = df.plot.line(x='pig', y='horse')\n",
      " |  \n",
      " |  pie(self, **kwargs)\n",
      " |      Generate a pie plot.\n",
      " |      \n",
      " |      A pie plot is a proportional representation of the numerical data in a\n",
      " |      column. This function wraps :meth:`matplotlib.pyplot.pie` for the\n",
      " |      specified column. If no column reference is passed and\n",
      " |      ``subplots=True`` a pie plot is drawn for each numerical column\n",
      " |      independently.\n",
      " |      \n",
      " |      Parameters\n",
      " |      ----------\n",
      " |      y : int or label, optional\n",
      " |          Label or position of the column to plot.\n",
      " |          If not provided, ``subplots=True`` argument must be passed.\n",
      " |      **kwargs\n",
      " |          Keyword arguments to pass on to :meth:`DataFrame.plot`.\n",
      " |      \n",
      " |      Returns\n",
      " |      -------\n",
      " |      matplotlib.axes.Axes or np.ndarray of them\n",
      " |          A NumPy array is returned when `subplots` is True.\n",
      " |      \n",
      " |      See Also\n",
      " |      --------\n",
      " |      Series.plot.pie : Generate a pie plot for a Series.\n",
      " |      DataFrame.plot : Make plots of a DataFrame.\n",
      " |      \n",
      " |      Examples\n",
      " |      --------\n",
      " |      In the example below we have a DataFrame with the information about\n",
      " |      planet's mass and radius. We pass the 'mass' column to the\n",
      " |      pie function to get a pie plot.\n",
      " |      \n",
      " |      .. plot::\n",
      " |          :context: close-figs\n",
      " |      \n",
      " |          >>> df = pd.DataFrame({'mass': [0.330, 4.87 , 5.97],\n",
      " |          ...                    'radius': [2439.7, 6051.8, 6378.1]},\n",
      " |          ...                   index=['Mercury', 'Venus', 'Earth'])\n",
      " |          >>> plot = df.plot.pie(y='mass', figsize=(5, 5))\n",
      " |      \n",
      " |      .. plot::\n",
      " |          :context: close-figs\n",
      " |      \n",
      " |          >>> plot = df.plot.pie(subplots=True, figsize=(11, 6))\n",
      " |  \n",
      " |  scatter(self, x, y, s=None, c=None, **kwargs)\n",
      " |      Create a scatter plot with varying marker point size and color.\n",
      " |      \n",
      " |      The coordinates of each point are defined by two dataframe columns and\n",
      " |      filled circles are used to represent each point. This kind of plot is\n",
      " |      useful to see complex correlations between two variables. Points could\n",
      " |      be for instance natural 2D coordinates like longitude and latitude in\n",
      " |      a map or, in general, any pair of metrics that can be plotted against\n",
      " |      each other.\n",
      " |      \n",
      " |      Parameters\n",
      " |      ----------\n",
      " |      x : int or str\n",
      " |          The column name or column position to be used as horizontal\n",
      " |          coordinates for each point.\n",
      " |      y : int or str\n",
      " |          The column name or column position to be used as vertical\n",
      " |          coordinates for each point.\n",
      " |      s : str, scalar or array_like, optional\n",
      " |          The size of each point. Possible values are:\n",
      " |      \n",
      " |          - A string with the name of the column to be used for marker's size.\n",
      " |      \n",
      " |          - A single scalar so all points have the same size.\n",
      " |      \n",
      " |          - A sequence of scalars, which will be used for each point's size\n",
      " |            recursively. For instance, when passing [2,14] all points size\n",
      " |            will be either 2 or 14, alternatively.\n",
      " |      \n",
      " |            .. versionchanged:: 1.1.0\n",
      " |      \n",
      " |      c : str, int or array_like, optional\n",
      " |          The color of each point. Possible values are:\n",
      " |      \n",
      " |          - A single color string referred to by name, RGB or RGBA code,\n",
      " |            for instance 'red' or '#a98d19'.\n",
      " |      \n",
      " |          - A sequence of color strings referred to by name, RGB or RGBA\n",
      " |            code, which will be used for each point's color recursively. For\n",
      " |            instance ['green','yellow'] all points will be filled in green or\n",
      " |            yellow, alternatively.\n",
      " |      \n",
      " |          - A column name or position whose values will be used to color the\n",
      " |            marker points according to a colormap.\n",
      " |      \n",
      " |      **kwargs\n",
      " |          Keyword arguments to pass on to :meth:`DataFrame.plot`.\n",
      " |      \n",
      " |      Returns\n",
      " |      -------\n",
      " |      :class:`matplotlib.axes.Axes` or numpy.ndarray of them\n",
      " |      \n",
      " |      See Also\n",
      " |      --------\n",
      " |      matplotlib.pyplot.scatter : Scatter plot using multiple input data\n",
      " |          formats.\n",
      " |      \n",
      " |      Examples\n",
      " |      --------\n",
      " |      Let's see how to draw a scatter plot using coordinates from the values\n",
      " |      in a DataFrame's columns.\n",
      " |      \n",
      " |      .. plot::\n",
      " |          :context: close-figs\n",
      " |      \n",
      " |          >>> df = pd.DataFrame([[5.1, 3.5, 0], [4.9, 3.0, 0], [7.0, 3.2, 1],\n",
      " |          ...                    [6.4, 3.2, 1], [5.9, 3.0, 2]],\n",
      " |          ...                   columns=['length', 'width', 'species'])\n",
      " |          >>> ax1 = df.plot.scatter(x='length',\n",
      " |          ...                       y='width',\n",
      " |          ...                       c='DarkBlue')\n",
      " |      \n",
      " |      And now with the color determined by a column as well.\n",
      " |      \n",
      " |      .. plot::\n",
      " |          :context: close-figs\n",
      " |      \n",
      " |          >>> ax2 = df.plot.scatter(x='length',\n",
      " |          ...                       y='width',\n",
      " |          ...                       c='species',\n",
      " |          ...                       colormap='viridis')\n",
      " |  \n",
      " |  ----------------------------------------------------------------------\n",
      " |  Methods inherited from pandas.core.base.PandasObject:\n",
      " |  \n",
      " |  __repr__(self) -> str\n",
      " |      Return a string representation for a particular object.\n",
      " |  \n",
      " |  __sizeof__(self)\n",
      " |      Generates the total memory usage for an object that returns\n",
      " |      either a value or Series of values\n",
      " |  \n",
      " |  ----------------------------------------------------------------------\n",
      " |  Data and other attributes inherited from pandas.core.base.PandasObject:\n",
      " |  \n",
      " |  __annotations__ = {'_cache': typing.Dict[str, typing.Any]}\n",
      " |  \n",
      " |  ----------------------------------------------------------------------\n",
      " |  Methods inherited from pandas.core.accessor.DirNamesMixin:\n",
      " |  \n",
      " |  __dir__(self)\n",
      " |      Provide method name lookup and completion.\n",
      " |      \n",
      " |      Notes\n",
      " |      -----\n",
      " |      Only provide 'public' methods.\n",
      " |  \n",
      " |  ----------------------------------------------------------------------\n",
      " |  Data descriptors inherited from pandas.core.accessor.DirNamesMixin:\n",
      " |  \n",
      " |  __dict__\n",
      " |      dictionary for instance variables (if defined)\n",
      " |  \n",
      " |  __weakref__\n",
      " |      list of weak references to the object (if defined)\n",
      "\n"
     ]
    }
   ],
   "source": [
    "help(DataFrame.plot)"
   ]
  },
  {
   "cell_type": "code",
   "execution_count": 105,
   "metadata": {},
   "outputs": [
    {
     "data": {
      "text/plain": [
       "31    4\n",
       "32    2\n",
       "30    1\n",
       "33    1\n",
       "dtype: int64"
      ]
     },
     "execution_count": 105,
     "metadata": {},
     "output_type": "execute_result"
    }
   ],
   "source": [
    "s.value_counts()"
   ]
  },
  {
   "cell_type": "code",
   "execution_count": 106,
   "metadata": {},
   "outputs": [
    {
     "data": {
      "text/plain": [
       "<AxesSubplot:ylabel='None'>"
      ]
     },
     "execution_count": 106,
     "metadata": {},
     "output_type": "execute_result"
    },
    {
     "data": {
      "image/png": "[encoded data removed]",
      "text/plain": [
       "<Figure size 432x288 with 1 Axes>"
      ]
     },
     "metadata": {},
     "output_type": "display_data"
    }
   ],
   "source": [
    "s.value_counts().plot.pie()"
   ]
  },
  {
   "cell_type": "code",
   "execution_count": 107,
   "metadata": {},
   "outputs": [
    {
     "data": {
      "text/plain": [
       "<AxesSubplot:>"
      ]
     },
     "execution_count": 107,
     "metadata": {},
     "output_type": "execute_result"
    },
    {
     "data": {
      "image/png": "[encoded data removed]",
      "text/plain": [
       "<Figure size 432x288 with 1 Axes>"
      ]
     },
     "metadata": {
      "needs_background": "light"
     },
     "output_type": "display_data"
    }
   ],
   "source": [
    "s.plot.box()"
   ]
  },
  {
   "cell_type": "code",
   "execution_count": 108,
   "metadata": {},
   "outputs": [
    {
     "data": {
      "text/plain": [
       "count     8.000000\n",
       "mean     31.375000\n",
       "std       0.916125\n",
       "min      30.000000\n",
       "25%      31.000000\n",
       "50%      31.000000\n",
       "75%      32.000000\n",
       "max      33.000000\n",
       "dtype: float64"
      ]
     },
     "execution_count": 108,
     "metadata": {},
     "output_type": "execute_result"
    }
   ],
   "source": [
    "s.describe()"
   ]
  },
  {
   "cell_type": "code",
   "execution_count": 109,
   "metadata": {},
   "outputs": [
    {
     "data": {
      "image/png": "[encoded data removed]",
      "text/plain": [
       "<Figure size 432x288 with 1 Axes>"
      ]
     },
     "metadata": {
      "needs_background": "light"
     },
     "output_type": "display_data"
    }
   ],
   "source": [
    "plot = s.plot.box()   # store the boxplot object to the \"plot\" variable\n"
   ]
  },
  {
   "cell_type": "code",
   "execution_count": 110,
   "metadata": {},
   "outputs": [
    {
     "data": {
      "text/plain": [
       "<AxesSubplot:>"
      ]
     },
     "execution_count": 110,
     "metadata": {},
     "output_type": "execute_result"
    }
   ],
   "source": [
    "plot"
   ]
  },
  {
   "cell_type": "code",
   "execution_count": 111,
   "metadata": {},
   "outputs": [
    {
     "data": {
      "text/plain": [
       "matplotlib.axes._subplots.AxesSubplot"
      ]
     },
     "execution_count": 111,
     "metadata": {},
     "output_type": "execute_result"
    }
   ],
   "source": [
    "type(plot)"
   ]
  },
  {
   "cell_type": "code",
   "execution_count": 112,
   "metadata": {},
   "outputs": [],
   "source": [
    "# now that I have the plot object, I can get the image (\"figure\")\n",
    "fig = plot.get_figure()"
   ]
  },
  {
   "cell_type": "code",
   "execution_count": 113,
   "metadata": {},
   "outputs": [
    {
     "data": {
      "image/png": "[encoded data removed]",
      "text/plain": [
       "<Figure size 432x288 with 1 Axes>"
      ]
     },
     "execution_count": 113,
     "metadata": {},
     "output_type": "execute_result"
    }
   ],
   "source": [
    "fig"
   ]
  },
  {
   "cell_type": "code",
   "execution_count": 114,
   "metadata": {},
   "outputs": [],
   "source": [
    "# store the figure to the filesystem with \"savefig\"\n",
    "fig.savefig('myplot.png')"
   ]
  },
  {
   "cell_type": "code",
   "execution_count": 115,
   "metadata": {},
   "outputs": [
    {
     "data": {
      "text/plain": [
       "'/Users/reuven/Consulting/Courses/Data Science/cisco-2020-september'"
      ]
     },
     "execution_count": 115,
     "metadata": {},
     "output_type": "execute_result"
    }
   ],
   "source": [
    "%pwd"
   ]
  },
  {
   "cell_type": "code",
   "execution_count": null,
   "metadata": {},
   "outputs": [],
   "source": []
  }
 ],
 "metadata": {
  "kernelspec": {
   "display_name": "Python 3",
   "language": "python",
   "name": "python3"
  },
  "language_info": {
   "codemirror_mode": {
    "name": "ipython",
    "version": 3
   },
   "file_extension": ".py",
   "mimetype": "text/x-python",
   "name": "python",
   "nbconvert_exporter": "python",
   "pygments_lexer": "ipython3",
   "version": "3.8.5"
  }
 },
 "nbformat": 4,
 "nbformat_minor": 4
}
